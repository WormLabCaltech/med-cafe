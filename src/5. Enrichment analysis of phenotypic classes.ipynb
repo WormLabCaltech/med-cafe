{
 "cells": [
  {
   "cell_type": "markdown",
   "metadata": {
    "toc": "true"
   },
   "source": [
    "# Table of Contents\n",
    " <p><div class=\"lev2 toc-item\"><a href=\"#The-RAS-pathway\" data-toc-modified-id=\"The-RAS-pathway-0.1\"><span class=\"toc-item-num\">0.1&nbsp;&nbsp;</span>The RAS pathway</a></div><div class=\"lev2 toc-item\"><a href=\"#Ras-GF\" data-toc-modified-id=\"Ras-GF-0.2\"><span class=\"toc-item-num\">0.2&nbsp;&nbsp;</span>Ras GF</a></div><div class=\"lev2 toc-item\"><a href=\"#The-WNT-Pathway\" data-toc-modified-id=\"The-WNT-Pathway-0.3\"><span class=\"toc-item-num\">0.3&nbsp;&nbsp;</span>The WNT Pathway</a></div>"
   ]
  },
  {
   "cell_type": "markdown",
   "metadata": {},
   "source": [
    "In this notebook, I will compare the *mdt-12* transcriptomes with the hypoxia, Dpy, Ras and Wnt transcriptional signatures. These signatures in theory ought to serve as powerful predictors of interaction  (for pathways) or as predictors of observable phenotypes (such as Dpy) if they are present in the mutant data. "
   ]
  },
  {
   "cell_type": "code",
   "execution_count": 1,
   "metadata": {},
   "outputs": [],
   "source": [
    "import pandas as pd\n",
    "import numpy as np\n",
    "import scipy as scipy\n",
    "import matplotlib as mpl\n",
    "import matplotlib.pyplot as plt\n",
    "import seaborn as sns\n",
    "from matplotlib import rc\n",
    "import tissue_enrichment_analysis as tea\n",
    "import pretty_table as pretty\n",
    "\n",
    "from scipy import stats\n",
    "\n",
    "import os\n",
    "rc('text', usetex=True)\n",
    "rc('text.latex', preamble=r'\\usepackage{cmbright}')\n",
    "rc('font', **{'family': 'sans-serif', 'sans-serif': ['Helvetica']})\n",
    "\n",
    "%matplotlib inline\n",
    "\n",
    "# This enables SVG graphics inline. \n",
    "%config InlineBackend.figure_formats = {'png', 'retina'}\n",
    "\n",
    "# JB's favorite Seaborn settings for notebooks\n",
    "rc = {'lines.linewidth': 2, \n",
    "      'axes.labelsize': 18, \n",
    "      'axes.titlesize': 18, \n",
    "      'axes.facecolor': 'DFDFE5'}\n",
    "sns.set_context('notebook', rc=rc)\n",
    "sns.set_style(\"dark\")\n",
    "\n",
    "mpl.rcParams['xtick.labelsize'] = 16 \n",
    "mpl.rcParams['ytick.labelsize'] = 16 \n",
    "mpl.rcParams['legend.fontsize'] = 14"
   ]
  },
  {
   "cell_type": "code",
   "execution_count": 2,
   "metadata": {},
   "outputs": [],
   "source": [
    "q = 0.1\n",
    "genmap = pd.read_csv('../sleuth/rna_seq_info.txt', sep=' ', comment='#')\n",
    "tidy  = pd.read_csv('../output/SI1_dpy_22_results.csv')\n",
    "mediator = pd.read_csv('../input/complexes.csv')"
   ]
  },
  {
   "cell_type": "code",
   "execution_count": 3,
   "metadata": {},
   "outputs": [],
   "source": [
    "tissue = tea.fetch_dictionary('tissue')\n",
    "phenotype = tea.fetch_dictionary('phenotype')\n",
    "go = tea.fetch_dictionary('go')\n",
    "dicts = {'tissue': tissue, 'phenotype': phenotype, 'go': go}"
   ]
  },
  {
   "cell_type": "code",
   "execution_count": 4,
   "metadata": {},
   "outputs": [],
   "source": [
    "# filter dictionaries and keep only transcripts that were detected\n",
    "#at any level\n",
    "for key, d in dicts.items():\n",
    "    d = d[d.wbid.isin(tidy.ens_gene.unique())]\n",
    "    dicts[key] = d"
   ]
  },
  {
   "cell_type": "code",
   "execution_count": 5,
   "metadata": {},
   "outputs": [],
   "source": [
    "# perform all enrichment analysis and store them in a hash\n",
    "analysis = {}\n",
    "for phenoclass, group in tidy.groupby('phenotypic class'):\n",
    "    frames = {}\n",
    "    for k, d in dicts.items():\n",
    "        df = tea.enrichment_analysis(group.ens_gene.unique(), d, show=False)\n",
    "        frames[k] = df\n",
    "    analysis[phenoclass] = frames"
   ]
  },
  {
   "cell_type": "code",
   "execution_count": 6,
   "metadata": {
    "scrolled": false
   },
   "outputs": [
    {
     "name": "stdout",
     "output_type": "stream",
     "text": [
      "bx93 associated tissue\n",
      "      minTerm  logQ  Observed\n",
      "77  intestine   5.0       134\n",
      "\n",
      "\n",
      "\n",
      "bx93 associated go\n",
      "                            minTerm  logQ  Observed\n",
      "59           immune system process    6.0        17\n",
      "58  organic acid metabolic process    4.0        15\n",
      "3      response to biotic stimulus    4.0        10\n",
      "\n",
      "\n",
      "\n",
      "sy622 associated tissue\n",
      "                 minTerm  logQ  Observed\n",
      "33  cephalic sheath cell   5.0        31\n",
      "\n",
      "\n",
      "\n",
      "sy622 associated go\n",
      "                                 minTerm  logQ  Observed\n",
      "71       organic acid metabolic process    6.0        37\n",
      "72                immune system process    6.0        33\n",
      "70  protein heterodimerization activity    4.0        12\n",
      "\n",
      "\n",
      "\n",
      "sy622 specific tissue\n",
      "               minTerm  logQ  Observed\n",
      "246          intestine   8.0       649\n",
      "64     muscular system   4.0       465\n",
      "186  epithelial system   3.0       406\n",
      "\n",
      "\n",
      "\n",
      "sy622 specific phenotype\n",
      "                  minTerm  logQ  Observed\n",
      "27  avoids bacterial lawn   3.0        62\n",
      "\n",
      "\n",
      "\n",
      "sy622 specific go\n",
      "                                     minTerm  logQ  Observed\n",
      "105                    extracellular region   15.0        90\n",
      "76        structural constituent of cuticle   14.0        44\n",
      "110                         collagen trimer   14.0        42\n",
      "2    nucleoside phosphate metabolic process    9.0        51\n",
      "73           organic acid metabolic process    8.0        61\n",
      "93      purine nucleotide metabolic process    7.0        38\n",
      "69                            mitochondrion    7.0        79\n",
      "88                      extracellular space    7.0        40\n",
      "44       ribose phosphate metabolic process    7.0        38\n",
      "97                 organelle inner membrane    5.0        34\n",
      "21                                cytoplasm    4.0       322\n",
      "117                       contractile fiber    4.0        27\n",
      "60                       peptidase activity    3.0        54\n",
      "\n",
      "\n",
      "\n",
      "transhet specific tissue\n",
      "                 minTerm  logQ  Observed\n",
      "22                  male  64.0       432\n",
      "185  reproductive system  22.0       925\n",
      "104               oocyte   3.0        28\n",
      "8     amphid sheath cell   3.0        71\n",
      "\n",
      "\n",
      "\n",
      "transhet specific go\n",
      "                                               minTerm  logQ  Observed\n",
      "17                           regulation of cell shape    7.0        32\n",
      "113                      nucleoside phosphate binding    6.0       187\n",
      "83                          purine nucleotide binding    6.0       169\n",
      "95                             ribonucleotide binding    6.0       170\n",
      "19                       peptidyl-serine modification    5.0        35\n",
      "37                                  dephosphorylation    4.0        49\n",
      "18   embryo development ending in birth or egg hatc...   4.0        54\n",
      "86                       protein modification process    4.0       172\n",
      "111                      phosphorus metabolic process    4.0       163\n",
      "45                                    ATPase activity    4.0        48\n",
      "30       hydrolase activity acting on acid anhydrides    3.0        87\n",
      "\n",
      "\n",
      "\n"
     ]
    }
   ],
   "source": [
    "# pretty print the results:\n",
    "for phenoclass, f in analysis.items():\n",
    "    for k, d in f.items():\n",
    "        # print only sig results (q < 10^-3)\n",
    "        d['logQ'] = -d['Q value'].apply(np.log10)\n",
    "        sig = (d['Q value'] < 10**-3)\n",
    "        if d[sig].shape[0] == 0:\n",
    "            continue\n",
    "\n",
    "        # trim names for easier printing\n",
    "        if k.lower() == 'tissue':\n",
    "            d['minTerm'] = d.Term.str[:-13]\n",
    "        if k.lower() == 'phenotype':\n",
    "            d['minTerm'] = d.Term.str[:-20]\n",
    "        if k.lower() == 'go':\n",
    "            d['minTerm'] = d.Term.str[:-10]\n",
    "\n",
    "        # subset dataframe to sig terms and make sure there's >2 observations\n",
    "        # per term\n",
    "        tmp = d[sig & (d.Observed > 2)]\n",
    "\n",
    "        if tmp.shape[0] == 0:\n",
    "            continue\n",
    "\n",
    "        print(phenoclass, k)        \n",
    "        print(tmp[['minTerm', 'logQ', 'Observed']].round(0))\n",
    "        print('\\n\\n')"
   ]
  }
 ],
 "metadata": {
  "kernelspec": {
   "display_name": "Python 3",
   "language": "python",
   "name": "python3"
  },
  "language_info": {
   "codemirror_mode": {
    "name": "ipython",
    "version": 3
   },
   "file_extension": ".py",
   "mimetype": "text/x-python",
   "name": "python",
   "nbconvert_exporter": "python",
   "pygments_lexer": "ipython3",
   "version": "3.6.4"
  },
  "nav_menu": {},
  "toc": {
   "navigate_menu": true,
   "number_sections": true,
   "sideBar": true,
   "threshold": 6,
   "toc_cell": true,
   "toc_section_display": "block",
   "toc_window_display": true
  }
 },
 "nbformat": 4,
 "nbformat_minor": 2
}
