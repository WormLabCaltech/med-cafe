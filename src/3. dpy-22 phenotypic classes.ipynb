{
 "cells": [
  {
   "cell_type": "markdown",
   "metadata": {},
   "source": [
    "# Identifying phenotypic classes in transcriptomic data\n",
    "\n",
    "In this notebook, I will put forward the concept of a phenotypic class, and I will show how to find these classes in this data. As always, the first step is to load in the libraries"
   ]
  },
  {
   "cell_type": "code",
   "execution_count": 1,
   "metadata": {},
   "outputs": [],
   "source": [
    "import pandas as pd\n",
    "import numpy as np\n",
    "\n",
    "# import own libraries\n",
    "import epistasis as epi\n",
    "\n",
    "tidy  = pd.read_csv('../input/quantifications.csv')\n",
    "\n",
    "# set statistical significance\n",
    "q = 0.1"
   ]
  },
  {
   "cell_type": "markdown",
   "metadata": {},
   "source": [
    "# Defining the phenotypic classes\n",
    "The method by which I defined the phenotypic classes was outlined in the main manuscript, so I will not go into depth on how to do it here. Suffice to say that the molecular lesions strongly suggest a null hypothesis for how the sets should look, and false-positive and false-negative analyses suggest that the Venn diagram, and therefore the phenotypic classes, follow the expected null hypothesis. Here, I assign the transcripts to those classes suggested by the null hypothesis. As a first step, I find those genes that are differentially expressed in any combination of two genotypes."
   ]
  },
  {
   "cell_type": "code",
   "execution_count": 2,
   "metadata": {},
   "outputs": [],
   "source": [
    "# find all pairwise overlaps\n",
    "overlap_sy622_het = epi.find_overlap(tidy, ['PS4087', 'PS4176'], q=q)\n",
    "overlap_bx93_het = epi.find_overlap(tidy, ['PS4187', 'PS4176'], q=q)\n",
    "overlap_sy622_bx93 = epi.find_overlap(tidy, ['PS4187', 'PS4087'], q=q)"
   ]
  },
  {
   "cell_type": "markdown",
   "metadata": {},
   "source": [
    "Next, I use the same definitions as in the main text to combine (or exclude) genes from each pairwise overlap into phenotypic classes."
   ]
  },
  {
   "cell_type": "code",
   "execution_count": 3,
   "metadata": {},
   "outputs": [],
   "source": [
    "# The following code finds the desired transcripts (isoforms) in each class and puts them into numpy arrays:\n",
    "\n",
    "def target(selection):\n",
    "    \"\"\"Wrapper function for boolean logic.\"\"\"\n",
    "    return tidy.target_id.isin(selection)\n",
    "\n",
    "\n",
    "sig = (tidy.qval < q)\n",
    "\n",
    "sy622_associated = tidy[target(overlap_sy622_het) &\n",
    "                        (~target(overlap_sy622_bx93))].target_id.unique()\n",
    "\n",
    "bx93_associated = tidy[target(overlap_bx93_het) |\n",
    "                       (target(overlap_sy622_bx93))].target_id.unique()\n",
    "\n",
    "bx93_specific = tidy[(~target(overlap_sy622_bx93)) & \n",
    "                     (~target(overlap_bx93_het)) &\n",
    "                      sig &\n",
    "                     (tidy.strain == 'PS4187')].target_id.unique()\n",
    "\n",
    "sy622_specific = tidy[(~target(overlap_sy622_bx93)) &\n",
    "                      (~target(overlap_sy622_het)) &\n",
    "                      sig &\n",
    "                      (tidy.strain == 'PS4087')].target_id.unique()\n",
    "\n",
    "transhet_specific = tidy[(~target(overlap_bx93_het)) &\n",
    "                         (~target(overlap_sy622_het)) & \n",
    "                         sig &\n",
    "                         (tidy.strain == 'PS4176')].target_id.unique()"
   ]
  },
  {
   "cell_type": "markdown",
   "metadata": {},
   "source": [
    "Make a dictionary where each class is a key for its numpy array."
   ]
  },
  {
   "cell_type": "code",
   "execution_count": 4,
   "metadata": {},
   "outputs": [],
   "source": [
    "# Make a dictionary\n",
    "classes = {'sy622 associated': sy622_associated,\n",
    "           'bx93 associated': bx93_associated,\n",
    "           'sy622 specific': sy622_specific,\n",
    "           'bx93 specific': bx93_specific,\n",
    "           'transhet specific': transhet_specific}"
   ]
  },
  {
   "cell_type": "markdown",
   "metadata": {},
   "source": [
    "We also need the inverse dictionary, where each transcript is the key for its class. This will allow us to annotate the dataframe with a new column, phenotypic class. While we're at it, let's also print out how many transcripts exist in each phenotypic class."
   ]
  },
  {
   "cell_type": "code",
   "execution_count": 5,
   "metadata": {},
   "outputs": [
    {
     "name": "stdout",
     "output_type": "stream",
     "text": [
      "sy622 associated 665\n",
      "bx93 associated 229\n",
      "sy622 specific 1213\n",
      "bx93 specific 37\n",
      "transhet specific 1302\n"
     ]
    }
   ],
   "source": [
    "inv_classes = {}\n",
    "\n",
    "for key, value in classes.items():\n",
    "    n = len(tidy[tidy.target_id.isin(value)].ens_gene.unique())\n",
    "    print(key, n)\n",
    "    \n",
    "    for v in value:\n",
    "        inv_classes[v] = key"
   ]
  },
  {
   "cell_type": "markdown",
   "metadata": {},
   "source": [
    "Annotate the dataframe with the information on phenotypic classes, and save it to a file."
   ]
  },
  {
   "cell_type": "code",
   "execution_count": 19,
   "metadata": {},
   "outputs": [],
   "source": [
    "# label transcripts with the phenotypic class they belong to\n",
    "tidy['phenotypic class'] = tidy.target_id.map(inv_classes)\n",
    "# save to a dataframe\n",
    "tidy.to_csv('../output/SI1_dpy_22_results.csv')"
   ]
  }
 ],
 "metadata": {
  "kernelspec": {
   "display_name": "Python 3",
   "language": "python",
   "name": "python3"
  },
  "language_info": {
   "codemirror_mode": {
    "name": "ipython",
    "version": 3
   },
   "file_extension": ".py",
   "mimetype": "text/x-python",
   "name": "python",
   "nbconvert_exporter": "python",
   "pygments_lexer": "ipython3",
   "version": "3.6.4"
  },
  "nav_menu": {},
  "toc": {
   "navigate_menu": true,
   "number_sections": true,
   "sideBar": true,
   "threshold": 6,
   "toc_cell": true,
   "toc_section_display": "block",
   "toc_window_display": true
  }
 },
 "nbformat": 4,
 "nbformat_minor": 2
}
