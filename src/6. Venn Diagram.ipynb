{
 "cells": [
  {
   "cell_type": "markdown",
   "metadata": {
    "toc": "true"
   },
   "source": [
    "# Table of Contents\n",
    " <p>"
   ]
  },
  {
   "cell_type": "code",
   "execution_count": 1,
   "metadata": {
    "collapsed": true
   },
   "outputs": [],
   "source": [
    "import matplotlib_venn as vplt\n",
    "import pandas as pd\n",
    "import numpy as np\n",
    "import scipy as scipy\n",
    "import matplotlib as mpl\n",
    "import matplotlib.pyplot as plt\n",
    "import seaborn as sns\n",
    "from matplotlib import rc\n",
    "import os\n",
    "rc('text', usetex=True)\n",
    "rc('text.latex', preamble=r'\\usepackage{cmbright}')\n",
    "rc('font', **{'family': 'sans-serif', 'sans-serif': ['Helvetica']})\n",
    "\n",
    "\n",
    "%matplotlib inline\n",
    "\n",
    "# This enables SVG graphics inline. \n",
    "%config InlineBackend.figure_formats = {'png', 'retina'}\n",
    "\n",
    "# JB's favorite Seaborn settings for notebooks\n",
    "rc = {'lines.linewidth': 2, \n",
    "      'axes.labelsize': 18, \n",
    "      'axes.titlesize': 18, \n",
    "      'axes.facecolor': 'DFDFE5'}\n",
    "sns.set_context('notebook', rc=rc)\n",
    "sns.set_style(\"dark\")\n",
    "\n",
    "mpl.rcParams['xtick.labelsize'] = 16 \n",
    "mpl.rcParams['ytick.labelsize'] = 16 \n",
    "mpl.rcParams['legend.fontsize'] = 14"
   ]
  },
  {
   "cell_type": "code",
   "execution_count": 2,
   "metadata": {
    "collapsed": true
   },
   "outputs": [],
   "source": [
    "q = 0.1\n",
    "tidy = pd.read_csv('../output/dpy_22_results.csv')"
   ]
  },
  {
   "cell_type": "code",
   "execution_count": 3,
   "metadata": {},
   "outputs": [
    {
     "data": {
      "text/html": [
       "<div>\n",
       "<table border=\"1\" class=\"dataframe\">\n",
       "  <thead>\n",
       "    <tr style=\"text-align: right;\">\n",
       "      <th></th>\n",
       "      <th>Unnamed: 0</th>\n",
       "      <th>target_id</th>\n",
       "      <th>pval</th>\n",
       "      <th>qval</th>\n",
       "      <th>b</th>\n",
       "      <th>se_b</th>\n",
       "      <th>mean_obs</th>\n",
       "      <th>var_obs</th>\n",
       "      <th>tech_var</th>\n",
       "      <th>sigma_sq</th>\n",
       "      <th>smooth_sigma_sq</th>\n",
       "      <th>final_sigma_sq</th>\n",
       "      <th>ens_gene</th>\n",
       "      <th>ext_gene</th>\n",
       "      <th>strain</th>\n",
       "      <th>genotype</th>\n",
       "      <th>phenotypic class</th>\n",
       "    </tr>\n",
       "  </thead>\n",
       "  <tbody>\n",
       "    <tr>\n",
       "      <th>0</th>\n",
       "      <td>0</td>\n",
       "      <td>2L52.1a</td>\n",
       "      <td>0.398331</td>\n",
       "      <td>1.0</td>\n",
       "      <td>0.302322</td>\n",
       "      <td>0.357944</td>\n",
       "      <td>3.983603</td>\n",
       "      <td>1.214993</td>\n",
       "      <td>0.161944</td>\n",
       "      <td>0.078289</td>\n",
       "      <td>0.072011</td>\n",
       "      <td>0.078289</td>\n",
       "      <td>WBGene00007063</td>\n",
       "      <td>2L52.1</td>\n",
       "      <td>PS4187</td>\n",
       "      <td>dpy22.bx93</td>\n",
       "      <td>NaN</td>\n",
       "    </tr>\n",
       "    <tr>\n",
       "      <th>1</th>\n",
       "      <td>1</td>\n",
       "      <td>2RSSE.1a</td>\n",
       "      <td>0.532457</td>\n",
       "      <td>1.0</td>\n",
       "      <td>0.193841</td>\n",
       "      <td>0.310514</td>\n",
       "      <td>4.246992</td>\n",
       "      <td>0.668286</td>\n",
       "      <td>0.122761</td>\n",
       "      <td>-0.055053</td>\n",
       "      <td>0.058024</td>\n",
       "      <td>0.058024</td>\n",
       "      <td>WBGene00007064</td>\n",
       "      <td>2RSSE.1</td>\n",
       "      <td>PS4187</td>\n",
       "      <td>dpy22.bx93</td>\n",
       "      <td>NaN</td>\n",
       "    </tr>\n",
       "    <tr>\n",
       "      <th>2</th>\n",
       "      <td>2</td>\n",
       "      <td>2RSSE.1b</td>\n",
       "      <td>0.813468</td>\n",
       "      <td>1.0</td>\n",
       "      <td>-0.125848</td>\n",
       "      <td>0.533356</td>\n",
       "      <td>3.737701</td>\n",
       "      <td>4.773003</td>\n",
       "      <td>0.173397</td>\n",
       "      <td>0.359982</td>\n",
       "      <td>0.088882</td>\n",
       "      <td>0.359982</td>\n",
       "      <td>WBGene00007064</td>\n",
       "      <td>2RSSE.1</td>\n",
       "      <td>PS4187</td>\n",
       "      <td>dpy22.bx93</td>\n",
       "      <td>NaN</td>\n",
       "    </tr>\n",
       "    <tr>\n",
       "      <th>3</th>\n",
       "      <td>3</td>\n",
       "      <td>3R5.1a</td>\n",
       "      <td>0.558985</td>\n",
       "      <td>1.0</td>\n",
       "      <td>-0.453203</td>\n",
       "      <td>0.775569</td>\n",
       "      <td>3.778363</td>\n",
       "      <td>1.091343</td>\n",
       "      <td>0.729480</td>\n",
       "      <td>0.398346</td>\n",
       "      <td>0.085789</td>\n",
       "      <td>0.398346</td>\n",
       "      <td>WBGene00007065</td>\n",
       "      <td>pot-3</td>\n",
       "      <td>PS4187</td>\n",
       "      <td>dpy22.bx93</td>\n",
       "      <td>NaN</td>\n",
       "    </tr>\n",
       "    <tr>\n",
       "      <th>4</th>\n",
       "      <td>4</td>\n",
       "      <td>3R5.1b</td>\n",
       "      <td>0.927849</td>\n",
       "      <td>1.0</td>\n",
       "      <td>-0.041794</td>\n",
       "      <td>0.461554</td>\n",
       "      <td>4.836034</td>\n",
       "      <td>0.118888</td>\n",
       "      <td>0.363477</td>\n",
       "      <td>-0.296251</td>\n",
       "      <td>0.035957</td>\n",
       "      <td>0.035957</td>\n",
       "      <td>WBGene00007065</td>\n",
       "      <td>pot-3</td>\n",
       "      <td>PS4187</td>\n",
       "      <td>dpy22.bx93</td>\n",
       "      <td>NaN</td>\n",
       "    </tr>\n",
       "  </tbody>\n",
       "</table>\n",
       "</div>"
      ],
      "text/plain": [
       "   Unnamed: 0 target_id      pval  qval         b      se_b  mean_obs  \\\n",
       "0           0   2L52.1a  0.398331   1.0  0.302322  0.357944  3.983603   \n",
       "1           1  2RSSE.1a  0.532457   1.0  0.193841  0.310514  4.246992   \n",
       "2           2  2RSSE.1b  0.813468   1.0 -0.125848  0.533356  3.737701   \n",
       "3           3    3R5.1a  0.558985   1.0 -0.453203  0.775569  3.778363   \n",
       "4           4    3R5.1b  0.927849   1.0 -0.041794  0.461554  4.836034   \n",
       "\n",
       "    var_obs  tech_var  sigma_sq  smooth_sigma_sq  final_sigma_sq  \\\n",
       "0  1.214993  0.161944  0.078289         0.072011        0.078289   \n",
       "1  0.668286  0.122761 -0.055053         0.058024        0.058024   \n",
       "2  4.773003  0.173397  0.359982         0.088882        0.359982   \n",
       "3  1.091343  0.729480  0.398346         0.085789        0.398346   \n",
       "4  0.118888  0.363477 -0.296251         0.035957        0.035957   \n",
       "\n",
       "         ens_gene ext_gene  strain    genotype phenotypic class  \n",
       "0  WBGene00007063   2L52.1  PS4187  dpy22.bx93              NaN  \n",
       "1  WBGene00007064  2RSSE.1  PS4187  dpy22.bx93              NaN  \n",
       "2  WBGene00007064  2RSSE.1  PS4187  dpy22.bx93              NaN  \n",
       "3  WBGene00007065    pot-3  PS4187  dpy22.bx93              NaN  \n",
       "4  WBGene00007065    pot-3  PS4187  dpy22.bx93              NaN  "
      ]
     },
     "execution_count": 3,
     "metadata": {},
     "output_type": "execute_result"
    }
   ],
   "source": [
    "tidy.head()"
   ]
  },
  {
   "cell_type": "code",
   "execution_count": 4,
   "metadata": {},
   "outputs": [
    {
     "name": "stdout",
     "output_type": "stream",
     "text": [
      "PS4187 PS4187 481\n",
      "PS4187 PS4087 347\n",
      "PS4187 PS4176 298\n",
      "PS4087 PS4187 347\n",
      "PS4087 PS4087 2863\n",
      "PS4087 PS4176 955\n",
      "PS4176 PS4187 298\n",
      "PS4176 PS4087 955\n",
      "PS4176 PS4176 2214\n"
     ]
    }
   ],
   "source": [
    "for g1 in tidy.strain.unique():\n",
    "    list1 = tidy[(tidy.qval < q) & (tidy.strain == g1)].target_id.unique()\n",
    "    for g2 in tidy.strain.unique():\n",
    "        list2 = tidy[(tidy.qval < q) & (tidy.strain == g2) & (tidy.target_id.isin(list1))].ens_gene.unique()\n",
    "        print(g1, g2, len(list2))"
   ]
  },
  {
   "cell_type": "code",
   "execution_count": 5,
   "metadata": {
    "collapsed": true
   },
   "outputs": [],
   "source": [
    "# length of triple intercept:\n",
    "list1 = tidy[(tidy.qval < q) & (tidy.strain == 'PS4087')].target_id.unique()\n",
    "list2 = tidy[(tidy.qval < q) & (tidy.strain == 'PS4187') & (tidy.target_id.isin(list1))].target_id.unique()\n",
    "triple_list = tidy[(tidy.qval < q) & (tidy.strain == 'PS4176') & (tidy.target_id.isin(list2))]\n",
    "\n",
    "triple = len(triple_list.ens_gene.unique())"
   ]
  },
  {
   "cell_type": "code",
   "execution_count": 6,
   "metadata": {
    "collapsed": true
   },
   "outputs": [],
   "source": [
    "# length of sy622 & bx93 - (sy622 & bx93 & het)\n",
    "list1 = tidy[(tidy.qval < q) & (tidy.strain == 'PS4087')].target_id.unique()\n",
    "sy622_bx93_list = tidy[(tidy.qval < q) & (tidy.strain == 'PS4187') & (tidy.target_id.isin(list1)) & (~tidy.target_id.isin(triple_list.target_id))]\n",
    "\n",
    "sy622_bx93 = len(sy622_bx93_list.ens_gene.unique())\n",
    "\n",
    "# length of sy622 & het - (sy622 & bx93 & het)\n",
    "list1 = tidy[(tidy.qval < q) & (tidy.strain == 'PS4087')].target_id.unique()\n",
    "sy622_het_list = tidy[(tidy.qval < q) & (tidy.strain == 'PS4176') & (tidy.target_id.isin(list1)) & (~tidy.target_id.isin(triple_list.target_id))]\n",
    "\n",
    "sy622_het = len(sy622_het_list.ens_gene.unique())\n",
    "\n",
    "# length of bx93 & het - (sy622 & bx93 & het)\n",
    "list1 = tidy[(tidy.qval < q) & (tidy.strain == 'PS4187')].target_id.unique()\n",
    "bx93_het_list = tidy[(tidy.qval < q) & (tidy.strain == 'PS4176') & (tidy.target_id.isin(list1)) & (~tidy.target_id.isin(triple_list.target_id))]\n",
    "\n",
    "bx93_het = len(bx93_het_list.ens_gene.unique())\n",
    "\n",
    "# length of sy622 - intersect:\n",
    "list1 = tidy[(tidy.qval < q) & (tidy.strain == 'PS4087') & (~tidy.target_id.isin(sy622_bx93_list.target_id)) & (~tidy.target_id.isin(sy622_het_list.target_id)) & (~tidy.target_id.isin(triple_list.target_id))]\n",
    "\n",
    "sy622 = len(list1.ens_gene.unique())\n",
    "\n",
    "# length of bx93 - intersect:\n",
    "list1 = tidy[(tidy.qval < q) & (tidy.strain == 'PS4187') & (~tidy.target_id.isin(sy622_bx93_list.target_id)) & (~tidy.target_id.isin(bx93_het_list.target_id)) & (~tidy.target_id.isin(triple_list.target_id))]\n",
    "\n",
    "bx93 = len(list1.ens_gene.unique())\n",
    "\n",
    "# length of het - intersect:\n",
    "list1 = tidy[(tidy.qval < q) & (tidy.strain == 'PS4176') & (~tidy.target_id.isin(sy622_het_list.target_id)) & (~tidy.target_id.isin(bx93_het_list.target_id)) & (~tidy.target_id.isin(triple_list.target_id))]\n",
    "\n",
    "het = len(list1.ens_gene.unique())"
   ]
  },
  {
   "cell_type": "code",
   "execution_count": 7,
   "metadata": {},
   "outputs": [
    {
     "data": {
      "image/png": "[encoded data removed]",
      "text/plain": [
       "<matplotlib.figure.Figure at 0x1054a65c0>"
      ]
     },
     "metadata": {
      "image/png": {
       "height": 318,
       "width": 366
      }
     },
     "output_type": "display_data"
    }
   ],
   "source": [
    "labels = ('\\emph{dpy-22(sy622)}', '\\emph{dpy-22(bx93)}', '\\emph{dpy-22(bx93)/dpy-22(sy622)}')\n",
    "v = vplt.venn3(subsets=(sy622, bx93, sy622_bx93, het, sy622_het, bx93_het, triple), set_labels = labels)\n",
    "\n",
    "v.get_patch_by_id('100').set_color('#E85050')\n",
    "v.get_patch_by_id('010').set_color('#F7E71D')\n",
    "v.get_patch_by_id('001').set_color('#4E66ED')\n",
    "\n",
    "v.get_patch_by_id('100').set_alpha(.7)\n",
    "v.get_patch_by_id('010').set_alpha(.7)\n",
    "v.get_patch_by_id('001').set_alpha(.7)\n",
    "\n",
    "for text in v.set_labels:\n",
    "    text.set_fontsize(18)\n",
    "for text in v.subset_labels:\n",
    "    text.set_fontsize(16)\n",
    "\n",
    "plt.savefig('../output/venn_diagram.svg', bbox_inches='tight')"
   ]
  }
 ],
 "metadata": {
  "kernelspec": {
   "display_name": "Python [default]",
   "language": "python",
   "name": "python3"
  },
  "language_info": {
   "codemirror_mode": {
    "name": "ipython",
    "version": 3
   },
   "file_extension": ".py",
   "mimetype": "text/x-python",
   "name": "python",
   "nbconvert_exporter": "python",
   "pygments_lexer": "ipython3",
   "version": "3.5.3"
  },
  "nav_menu": {},
  "toc": {
   "navigate_menu": true,
   "number_sections": true,
   "sideBar": true,
   "threshold": 6,
   "toc_cell": true,
   "toc_section_display": "block",
   "toc_window_display": true
  }
 },
 "nbformat": 4,
 "nbformat_minor": 2
}
