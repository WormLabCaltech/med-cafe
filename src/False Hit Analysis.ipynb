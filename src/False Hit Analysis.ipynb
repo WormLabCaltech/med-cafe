{
 "cells": [
  {
   "cell_type": "markdown",
   "metadata": {
    "toc": "true"
   },
   "source": [
    "# Table of Contents\n",
    " <p>"
   ]
  },
  {
   "cell_type": "code",
   "execution_count": null,
   "metadata": {
    "collapsed": true
   },
   "outputs": [],
   "source": [
    "import pandas as pd\n",
    "import numpy as np\n",
    "import scipy as scipy\n",
    "import statsmodels.api as sm\n",
    "import matplotlib as mpl\n",
    "import matplotlib.pyplot as plt\n",
    "import seaborn as sns\n",
    "from matplotlib import rc\n",
    "import os\n",
    "\n",
    "# import own libraries\n",
    "import pretty_table as pretty\n",
    "\n",
    "# plotting settings\n",
    "import os\n",
    "rc('text', usetex=True)\n",
    "rc('text.latex', preamble=r'\\usepackage{cmbright}')\n",
    "rc('font', **{'family': 'sans-serif', 'sans-serif': ['Helvetica']})\n",
    "\n",
    "%matplotlib inline\n",
    "\n",
    "# This enables SVG graphics inline. \n",
    "%config InlineBackend.figure_formats = {'png', 'retina'}\n",
    "\n",
    "# JB's favorite Seaborn settings for notebooks\n",
    "rc = {'lines.linewidth': 2, \n",
    "      'axes.labelsize': 18, \n",
    "      'axes.titlesize': 18, \n",
    "      'axes.facecolor': 'DFDFE5'}\n",
    "sns.set_context('notebook', rc=rc)\n",
    "sns.set_style(\"dark\")\n",
    "\n",
    "# more parameters\n",
    "mpl.rcParams['xtick.labelsize'] = 16 \n",
    "mpl.rcParams['ytick.labelsize'] = 16 \n",
    "mpl.rcParams['legend.fontsize'] = 14"
   ]
  },
  {
   "cell_type": "code",
   "execution_count": 16,
   "metadata": {
    "collapsed": true
   },
   "outputs": [],
   "source": [
    "class model:\n",
    "    def __init__(self, N_100, N_010, N_001, M000, M100, M010, M001, M110, M101, M011, M111, fp, fn):\n",
    "        self.N = [N_100, N_010, N_001]\n",
    "        \n",
    "        # index matrix, standard for all 3-way comparisons\n",
    "        L = [[1,0,0],\n",
    "             [0,1,0],\n",
    "             [0,0,1],\n",
    "             [1,1,0],\n",
    "             [1,0,1],\n",
    "             [0,1,1],\n",
    "             [1,1,1],\n",
    "             [0,0,0]]\n",
    "        L = np.matrix(L)\n",
    "        self.L = L\n",
    "        \n",
    "        # parameters:\n",
    "        self.fp = fp\n",
    "        self.fn = fn\n",
    "        self.fps = np.zeros(shape=(2,2,2))\n",
    "        self.fns = np.zeros(shape=(2,2,2))\n",
    "        self.N_T = M000 + M100 + M010 + M001 + M110 + M101 + M011 + M111\n",
    "\n",
    "        # initialize the M classes:\n",
    "        self.make_M(M000, M100, M010, M001, M110, M101, M011, M111)\n",
    "        \n",
    "        # noise calculations\n",
    "        for t in range(0, 3):\n",
    "            self.false_positive(t)\n",
    "\n",
    "            for l in L:\n",
    "                if l[0,t] == 1:\n",
    "                    self.false_negative(t, l)\n",
    "\n",
    "\n",
    "    def make_M(self, M000, M100, M010, M001, M110, M101, M011, M111):\n",
    "        \"\"\"\n",
    "        Inputs Mijk entries into 3x3 array, and inflates them for false negatives.\n",
    "        \"\"\"\n",
    "        # inflation factor:\n",
    "        correction = (1-self.fn)\n",
    "        # total DE genes counted:\n",
    "        DE = M100 + M010 + M001 + M110 + M101 + M011 + M111\n",
    "    \n",
    "        # make matrix and input coefficients:\n",
    "        M_mat = np.zeros(shape=(2,2,2))\n",
    "        \n",
    "        M_mat[1, 0, 0] = M100/correction\n",
    "        M_mat[0, 1, 0] = M010/correction\n",
    "        M_mat[0, 0, 1] = M001/correction\n",
    "        M_mat[1, 1, 0] = M110/correction\n",
    "        M_mat[0, 1, 1] = M011/correction\n",
    "        M_mat[1, 0, 1] = M101/correction\n",
    "        M_mat[1, 1, 1] = M111/correction\n",
    "        M_mat[0, 0, 0] = self.N_T - DE/correction\n",
    "        \n",
    "        self.M = M_mat\n",
    "\n",
    "\n",
    "    def find_labels(self, t):\n",
    "        \"\"\"Given a genotype t, find all the labels that include that genotype\"\"\"\n",
    "        return self.L[np.where(self.L[:, t] == 1)[0]]\n",
    "\n",
    "\n",
    "    def find_sub_M(self, t):\n",
    "        \"\"\"Find the submatrix of M that only contains entries that include genotype t\"\"\"\n",
    "        return self.M[np.where(self.L[:, t] == 1)[0]]\n",
    "\n",
    "\n",
    "    def false_positive(self, t):\n",
    "        \"\"\"\n",
    "        Returns the expected false positive distribution for genotype t\n",
    "\n",
    "        t - the genotype currently being assessed\n",
    "        M - the matrix containing the size of each class\n",
    "        L - matrix of genotype labels\n",
    "        N_t - the total number of false positives expected for t\n",
    "\n",
    "        output:\n",
    "        fps -- the false positive hit matrix for the desired subset of Labels\n",
    "        \"\"\"\n",
    "        l = self.find_labels(t)\n",
    "        for label in l:\n",
    "            # find labels and classes\n",
    "            label = label[0]\n",
    "            M_label = self.M[label[0,0], label[0, 1], label[0, 2]]\n",
    "\n",
    "            # calculate distribution\n",
    "            if np.sum(label) > 1:\n",
    "                fraction = np.sum(M_label)/np.sum(self.M)\n",
    "            else:\n",
    "                fraction = (np.sum(M_label) + np.sum(self.M[0,0,0]))/np.sum(self.M)\n",
    "\n",
    "            # save\n",
    "            self.fps[label[0, 0], label[0, 1], label[0, 2]] += self.fp*fraction*self.N[t]\n",
    "\n",
    "\n",
    "    def false_negative(self, t, l):\n",
    "        \"\"\"Given a single label, l, find its adjacent labels and model false negative flow.\n",
    "\n",
    "        params:\n",
    "        t - genotype currently being assessed\n",
    "        l - current label, a numpy (1x3) matrix\n",
    "        M - matrix of class sizes\n",
    "        L - matrix of labels\n",
    "\n",
    "        output:\n",
    "        fns - the false negative hit matrix\n",
    "        \"\"\"\n",
    "        if l[0, t] == 0:\n",
    "            raise ValueError('label must contain a 1 at the `th` position')\n",
    "\n",
    "        # adjacent label:\n",
    "        curr = np.zeros(3)\n",
    "        curr[t] = 1\n",
    "        l_adj = l - curr\n",
    "        l_adj = l_adj.astype(int)\n",
    "\n",
    "        m_t = self.M[l[0,0], l[0,1], l[0,2]]\n",
    "        self.fns[l[0,0], l[0,1], l[0,2]] -= self.fn*m_t\n",
    "        self.fns[l_adj[0,0], l_adj[0,1], l_adj[0,2]] += self.fn*m_t\n",
    "\n",
    "\n",
    "    def signal_threshold(self, alpha):\n",
    "        self.snr = alpha\n",
    "\n",
    "    def test_classes(self, M_obs):\n",
    "        \n",
    "        accepted = np.array([0]*8)\n",
    "        sn = np.array([0]*8)\n",
    "        SN = M_obs/(self.fns + self.fps + 0.0001)\n",
    "        for l in self.L:\n",
    "            signal = SN[l[0,0], l[0,1], l[0,2]]\n",
    "            if (signal > self.snr) | (signal < 0):\n",
    "                # find which entry this is in\n",
    "                # the column is useless\n",
    "                row, col = np.where(np.all(self.L == l, axis=1))\n",
    "                accepted[row] = M_obs[l[0,0], l[0,1], l[0,2]]\n",
    "                sn[row] = signal\n",
    "        self.accepted = accepted\n",
    "        self.signal = sn"
   ]
  },
  {
   "cell_type": "code",
   "execution_count": 17,
   "metadata": {},
   "outputs": [],
   "source": [
    "def find_k_min(classes):\n",
    "    a = np.zeros(8)\n",
    "    if classes[7] > 0:\n",
    "        a[7] = classes[7]\n",
    "        return a\n",
    "    elif (classes[3:] > 0).any():\n",
    "        a[3:] = classes[3:]\n",
    "        return a\n",
    "    else:\n",
    "        return classes"
   ]
  },
  {
   "cell_type": "code",
   "execution_count": 156,
   "metadata": {},
   "outputs": [],
   "source": [
    "def iterate(M_obs, N_A, N_B, N_C, k_min, fn=0.1, fp=0.1, alpha=5):\n",
    "    \"\"\"\n",
    "    \"\"\"\n",
    "    min_model = model(N_A, N_B, N_C, *k_min, fn=fn, fp=fp)\n",
    "    min_model.signal_threshold(alpha)\n",
    "    min_model.test_classes(M_obs.M)\n",
    "\n",
    "    x = True\n",
    "    prev_model = min_model\n",
    "    while x:\n",
    "        curr_model = model(N_A, N_B, N_C, prev_model.accepted[-1],\n",
    "                           *prev_model.accepted[0:-1], fn=fp, fp=fp)\n",
    "        curr_model.signal_threshold(alpha)\n",
    "        curr_model.test_classes(M_obs.M)\n",
    "\n",
    "        if (curr_model.accepted == prev_model.accepted).all():\n",
    "            x = False\n",
    "        else:\n",
    "            prev_model = curr_model\n",
    "\n",
    "    return curr_model"
   ]
  },
  {
   "cell_type": "code",
   "execution_count": 157,
   "metadata": {},
   "outputs": [
    {
     "data": {
      "text/plain": [
       "array([ 1800,     0,  1226,     0,   720,     0,   242, 21000])"
      ]
     },
     "execution_count": 157,
     "metadata": {},
     "output_type": "execute_result"
    }
   ],
   "source": [
    "N_t = 21000\n",
    "M_obs = model(2800, 481, 2214, N_t, 1800, 78, 1226, 106, 720, 57, 242, fn=0, fp=0)\n",
    "k_min = (N_t-242, 0, 0, 0, 0, 0, 0, 242)\n",
    "final = iterate(M_obs, 2800, 481, 2214, k_min)\n",
    "final.accepted"
   ]
  },
  {
   "cell_type": "code",
   "execution_count": 161,
   "metadata": {
    "collapsed": true
   },
   "outputs": [],
   "source": [
    "def random_set():\n",
    "    real = np.random.randint(0, 2, 7)\n",
    "    # prevent all 0's\n",
    "    while np.sum(real) < 3:\n",
    "        real = np.random.randint(0, 2, 7)\n",
    "\n",
    "    classes = np.random.randint(10, 2000, 7)\n",
    "    classes[np.where(real == 0)] = 0\n",
    "    N_A = classes[0] + classes[3] + classes[4]  + classes[6]\n",
    "    N_B = classes[1] + classes[3] + classes[5]  + classes[6]\n",
    "    N_C = classes[2] + classes[4] + classes[5]  + classes[6]\n",
    "    N_T = 21000\n",
    "    sizes = np.append(np.array(N_T), classes)\n",
    "    true_classes = np.append(classes, [N_T])\n",
    "    N = [N_A, N_B, N_C]\n",
    "    \n",
    "    return N, true_classes, sizes\n",
    "\n",
    "def noise_model(N, sizes, fn, fp):\n",
    "    M = model(*N, *sizes, fn=fn, fp=fp)\n",
    "    M_mat = M.M + M.fps + M.fns\n",
    "    M_mat[np.where(M_mat < 0)] = 0\n",
    "    m_vector = (M_mat[0,0,0], M_mat[1,0,0], M_mat[0,1,0],\n",
    "                M_mat[0,0,1], M_mat[1,1,0], M_mat[1,0,1],\n",
    "                M_mat[0,1,1], M_mat[1,1,1])\n",
    "    M_obs = model(*N, *m_vector, fn=0, fp=0)\n",
    "    return M_obs\n",
    "\n",
    "def loop(M_obs, N, true_classes, sizes, alpha=5, fp=0.1, fn=0.1):\n",
    "    k_min = find_k_min(sizes)\n",
    "    final = iterate(M_obs, *N, k_min, alpha=alpha, fp=fp, fn=fn)\n",
    "\n",
    "    true_bool = true_classes > 0\n",
    "    final_bool = final.accepted > 0\n",
    "\n",
    "    correct = final_bool*true_bool\n",
    "    \n",
    "    return correct, final.signal"
   ]
  },
  {
   "cell_type": "code",
   "execution_count": 162,
   "metadata": {},
   "outputs": [],
   "source": [
    "def run(alpha, fp, fn):\n",
    "    iters = 10000\n",
    "    random_classes = np.empty(shape=(iters, 8))\n",
    "    classifications = np.empty(shape=(iters, 8))\n",
    "    signals = np.empty(shape=(iters, 8))\n",
    "    for i in range(iters):\n",
    "        N, true_classes, sizes = random_set()\n",
    "        M_obs = noise_model(N, sizes, fp=fp, fn=fn)\n",
    "        correct, signal = loop(M_obs, N, true_classes, k_min,\n",
    "                               alpha=alpha, fp=fp, fn=fn)\n",
    "        random_classes[i, :] = true_classes\n",
    "        classifications[i] = correct\n",
    "        signals[i] = signal\n",
    "    return random_classes, classifications, signals"
   ]
  },
  {
   "cell_type": "code",
   "execution_count": 208,
   "metadata": {
    "collapsed": true
   },
   "outputs": [],
   "source": [
    "def noise(sigma=0.05, iters=iters):\n",
    "    return np.random.normal(0, sigma, iters)\n",
    "\n",
    "def running_mean(x, N):\n",
    "    cumsum = np.cumsum(np.insert(x, 0, 0)) \n",
    "    return (cumsum[N:] - cumsum[:-N]) / float(N)\n",
    "\n",
    "def rc(classes, classifications, entry, subset=None):\n",
    "    if subset:\n",
    "        index = np.random.randint(0, len(classes[:, entry]), subset)\n",
    "        r = classes[:, entry][index]\n",
    "        c = classifications[:, entry][index]\n",
    "        \n",
    "        sorter = np.argsort(r)\n",
    "        r = r[sorter]\n",
    "        c = c[sorter] + noise(iters=subset)\n",
    "        return r, c\n",
    "    else:\n",
    "        sorter = np.argsort(classes[:,entry])\n",
    "        r = classes[:,entry][sorter]\n",
    "        c = classifications[:,entry][sorter] + noise()\n",
    "        return r, c\n",
    "\n",
    "def interpol(classes, classifications, entry, s=10):\n",
    "    r, c = rc(entry)\n",
    "    f = scipy.interpolate.UnivariateSpline(running_mean(r, 10), running_mean(c, 10), s=s)\n",
    "    xs = np.linspace(50, 1750, 50)\n",
    "    return xs, f(xs)\n",
    "\n",
    "def run_mean(classes, classifications, entry, interval):\n",
    "    r, c = rc(classes, classifications, entry)\n",
    "    return running_mean(r, interval), running_mean(c, interval)"
   ]
  },
  {
   "cell_type": "code",
   "execution_count": 164,
   "metadata": {},
   "outputs": [],
   "source": [
    "random_classes, classifications, signals = run(5, 0.1, 0.1)"
   ]
  },
  {
   "cell_type": "code",
   "execution_count": 211,
   "metadata": {},
   "outputs": [],
   "source": [
    "def make_pretty_plots(classes, classifications):\n",
    "    fig, ax = plt.subplots(ncols=3, figsize=(15, 4))\n",
    "    ax[0].plot(*rc(random_classes, classifications, 1, subset=500), 'o', alpha=0.5)\n",
    "    ax[0].plot(*run_mean(random_classes, classifications, 1, 50), 'r')\n",
    "    ax[0].set_title('Singly labelled class')\n",
    "    ax[0].set_ylabel('Correct classification')\n",
    "\n",
    "    ax[1].plot(*rc(random_classes, classifications, 5, subset=500), 'o', alpha=0.5)\n",
    "    ax[1].plot(*run_mean(random_classes, classifications, 5, 50), 'r')\n",
    "    ax[1].set_title('Doubly labelled class')\n",
    "    ax[1].set_xlabel('Number of DE genes in class')\n",
    "\n",
    "    ax[2].plot(*rc(random_classes, classifications, 6, subset=500), 'o', alpha=0.5)\n",
    "    ax[2].plot(*run_mean(random_classes, classifications, 6, 50), 'r')\n",
    "    ax[2].set_title('Triply labelled class')\n",
    "    return fig, ax"
   ]
  },
  {
   "cell_type": "code",
   "execution_count": 218,
   "metadata": {},
   "outputs": [],
   "source": [
    "def study(alpha, fp, fn):\n",
    "    random_classes, classifications, signals = run(alpha, fp, fn)\n",
    "    fig, ax = make_pretty_plots(random_classes, classifications)\n",
    "    fig.suptitle('Params: $alpha=${0}, $q$={1}, $f$={2}'.format(alpha, fp, fn))\n",
    "    return fig, ax"
   ]
  },
  {
   "cell_type": "code",
   "execution_count": null,
   "metadata": {},
   "outputs": [],
   "source": [
    "fig, ax = study(4, 0.1, 0.1)"
   ]
  },
  {
   "cell_type": "code",
   "execution_count": null,
   "metadata": {
    "collapsed": true
   },
   "outputs": [],
   "source": [
    "fig, ax = study(5, 0.1, 0.1)"
   ]
  },
  {
   "cell_type": "code",
   "execution_count": null,
   "metadata": {
    "collapsed": true
   },
   "outputs": [],
   "source": [
    "fig, ax = study(4, 0.01, 0.1)"
   ]
  },
  {
   "cell_type": "code",
   "execution_count": null,
   "metadata": {
    "collapsed": true
   },
   "outputs": [],
   "source": [
    "fig, ax = study(4, 0.1, 0.3)"
   ]
  },
  {
   "cell_type": "code",
   "execution_count": null,
   "metadata": {
    "collapsed": true
   },
   "outputs": [],
   "source": []
  }
 ],
 "metadata": {
  "kernelspec": {
   "display_name": "Python [default]",
   "language": "python",
   "name": "python3"
  },
  "language_info": {
   "codemirror_mode": {
    "name": "ipython",
    "version": 3
   },
   "file_extension": ".py",
   "mimetype": "text/x-python",
   "name": "python",
   "nbconvert_exporter": "python",
   "pygments_lexer": "ipython3",
   "version": "3.5.3"
  },
  "nav_menu": {},
  "toc": {
   "navigate_menu": true,
   "number_sections": true,
   "sideBar": true,
   "threshold": 6,
   "toc_cell": true,
   "toc_section_display": "block",
   "toc_window_display": true
  }
 },
 "nbformat": 4,
 "nbformat_minor": 2
}
