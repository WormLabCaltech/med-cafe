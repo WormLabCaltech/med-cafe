{
 "cells": [
  {
   "cell_type": "markdown",
   "metadata": {
    "toc": "true"
   },
   "source": [
    "# Table of Contents\n",
    " <p>"
   ]
  },
  {
   "cell_type": "code",
   "execution_count": 1,
   "metadata": {
    "collapsed": true
   },
   "outputs": [],
   "source": [
    "import pandas as pd\n",
    "import numpy as np\n",
    "import scipy as scipy\n",
    "import sklearn.decomposition\n",
    "import matplotlib as mpl\n",
    "import matplotlib.pyplot as plt\n",
    "import seaborn as sns\n",
    "from matplotlib import rc\n",
    "import os\n",
    "rc('text', usetex=True)\n",
    "rc('text.latex', preamble=r'\\usepackage{cmbright}')\n",
    "rc('font', **{'family': 'sans-serif', 'sans-serif': ['Helvetica']})\n",
    "\n",
    "\n",
    "%matplotlib inline\n",
    "\n",
    "# This enables SVG graphics inline. \n",
    "%config InlineBackend.figure_formats = {'png', 'retina'}\n",
    "\n",
    "# JB's favorite Seaborn settings for notebooks\n",
    "rc = {'lines.linewidth': 2, \n",
    "      'axes.labelsize': 18, \n",
    "      'axes.titlesize': 18, \n",
    "      'axes.facecolor': 'DFDFE5'}\n",
    "sns.set_context('notebook', rc=rc)\n",
    "sns.set_style(\"dark\")\n",
    "\n",
    "mpl.rcParams['xtick.labelsize'] = 16 \n",
    "mpl.rcParams['ytick.labelsize'] = 16 \n",
    "mpl.rcParams['legend.fontsize'] = 14"
   ]
  },
  {
   "cell_type": "code",
   "execution_count": 15,
   "metadata": {
    "collapsed": true
   },
   "outputs": [],
   "source": [
    "strains =['ps4187', 'ps4087', 'ps4176']\n",
    "\n",
    "strain_dict = {}\n",
    "for i, g in enumerate(strains):\n",
    "    strain_dict[g] = i"
   ]
  },
  {
   "cell_type": "code",
   "execution_count": 16,
   "metadata": {
    "collapsed": true
   },
   "outputs": [],
   "source": [
    "q = 0.1"
   ]
  },
  {
   "cell_type": "code",
   "execution_count": 17,
   "metadata": {
    "collapsed": true
   },
   "outputs": [],
   "source": [
    "genmap = pd.read_csv('../sleuth/rna_seq_info.txt', sep=' ', comment='#')\n",
    "frames = []\n",
    "\n",
    "for root, dirs, files in os.walk(\"../sleuth/sleuth_strains\"):\n",
    "    for file in files:\n",
    "        if file == 'lrt.csv':\n",
    "            continue\n",
    "            \n",
    "        strain =  file[:-4].replace('_', '-')\n",
    "        if strain[2:] not in strains:\n",
    "            continue\n",
    "\n",
    "        df = pd.read_csv(root + '/' + file, sep=',')\n",
    "        df.sort_values('target_id', inplace=True)\n",
    "        df['strain'] = strain.replace('b-', '')\n",
    "        df['genotype'] = genmap[genmap.strain == file[:-4]].genotype.unique()[0].replace('b_', '').replace('_', '-')\n",
    "        df['order'] = strain_dict[df.strain.unique()[0]]\n",
    "        frames += [df]\n",
    "    \n",
    "tidy = pd.concat(frames)\n",
    "tidy.dropna(subset=['ens_gene', 'b', 'qval'], inplace=True)\n",
    "tidy['absb'] = tidy.b.abs()\n",
    "tidy.sort_values(['order', 'target_id'], ascending=True, inplace=True)\n",
    "tidy.head()\n",
    "\n",
    "tidy.to_csv('../input/quantifications.csv', index=False)"
   ]
  },
  {
   "cell_type": "code",
   "execution_count": 18,
   "metadata": {},
   "outputs": [
    {
     "name": "stdout",
     "output_type": "stream",
     "text": [
      "Total isoforms identified in all genotypes: 21954\n"
     ]
    }
   ],
   "source": [
    "total_genes_id = tidy.target_id.unique().shape[0]\n",
    "print(\"Total isoforms identified in all genotypes: {0}\".format(total_genes_id))"
   ]
  },
  {
   "cell_type": "code",
   "execution_count": 19,
   "metadata": {},
   "outputs": [
    {
     "name": "stdout",
     "output_type": "stream",
     "text": [
      "Genotype, Strain: DEG\n",
      "dpy22-a1, ps4187: 339\n",
      "dpy22-a2, ps4087: 2510\n",
      "dpy22-a1a2het, ps4176: 2570\n"
     ]
    }
   ],
   "source": [
    "print('Genotype, Strain: DEG')\n",
    "for x in tidy.strain.unique():\n",
    "    # select the DE isoforms in the current genotype:\n",
    "    sel = (tidy.qval < q) & (tidy.strain == x)\n",
    "    # extract the number of unique genes:\n",
    "    s = tidy[sel].ens_gene.unique().shape[0]\n",
    "    genotype = tidy[tidy.strain == x].genotype.unique()[0]\n",
    "    print(\n",
    "          \"\"\"{0}, {1}: {2}\"\"\".format(genotype, x, s))"
   ]
  },
  {
   "cell_type": "code",
   "execution_count": 16,
   "metadata": {
    "collapsed": true
   },
   "outputs": [],
   "source": [
    "frames = []\n",
    "\n",
    "for root, dirs, files in os.walk(\"../sleuth/sleuth_batches/\"):\n",
    "    for file in files:\n",
    "        df = pd.read_csv(root + '/' + file, sep=',')\n",
    "        df.sort_values('target_id', inplace=True)\n",
    "        df['batch'] = file[:-4]\n",
    "        frames += [df]\n",
    "batches = pd.concat(frames)"
   ]
  },
  {
   "cell_type": "code",
   "execution_count": 17,
   "metadata": {},
   "outputs": [
    {
     "data": {
      "image/png": "[encoded data removed]",
      "text/plain": [
       "<matplotlib.figure.Figure at 0x1136899e8>"
      ]
     },
     "metadata": {
      "image/png": {
       "height": 353,
       "width": 544
      }
     },
     "output_type": "display_data"
    }
   ],
   "source": [
    "sns.boxplot(x='absb', y='strain', data=tidy[tidy.qval < q])\n",
    "plt.xscale('log')"
   ]
  },
  {
   "cell_type": "code",
   "execution_count": 18,
   "metadata": {},
   "outputs": [
    {
     "name": "stdout",
     "output_type": "stream",
     "text": [
      "pair, shared GENES, percent shared (isoforms)\n",
      "ps4187---ps4087, 251, 9.3%, 73%\n",
      "ps4187---ps4176, 245, 8.6%, 71%\n",
      "ps4087---ps4176, 1051, 24%, 40%\n"
     ]
    }
   ],
   "source": [
    "sig = (tidy.qval < q)\n",
    "print('pair, shared GENES, percent shared (isoforms)')\n",
    "for i, g1 in enumerate(tidy.strain.unique()):\n",
    "    genes1 = tidy[sig & (tidy.strain == g1)]\n",
    "    for j, g2 in enumerate(tidy.strain.unique()[i+1:]):\n",
    "        genes2 = tidy[sig & (tidy.strain == g2)]\n",
    "        \n",
    "        # find the overlap between the two:\n",
    "        OR = ((tidy.strain == g1) | (tidy.strain == g2)) \n",
    "        size1 = tidy[(tidy.strain == g1) & (tidy.qval < q)].shape[0]\n",
    "        size2 = tidy[(tidy.strain == g1) & (tidy.qval < q)].shape[0]\n",
    "        \n",
    "        n_iso = genes2[genes2.target_id.isin(genes1.target_id)].shape[0]\n",
    "        ntot = len(tidy[sig & OR].target_id.unique())\n",
    "        if n_iso/np.min([size1, size2]) > .0:\n",
    "            print(\n",
    "                \"{0}---{1}, {2}, {3:.2g}%, {4:.2g}%\".format(g1, g2, n_iso, 100*n_iso/ntot, 100*n_iso/np.min([size1, size2]))\n",
    "                 )"
   ]
  },
  {
   "cell_type": "code",
   "execution_count": null,
   "metadata": {
    "collapsed": true
   },
   "outputs": [],
   "source": []
  },
  {
   "cell_type": "code",
   "execution_count": null,
   "metadata": {
    "collapsed": true
   },
   "outputs": [],
   "source": []
  }
 ],
 "metadata": {
  "kernelspec": {
   "display_name": "Python [default]",
   "language": "python",
   "name": "python3"
  },
  "language_info": {
   "codemirror_mode": {
    "name": "ipython",
    "version": 3
   },
   "file_extension": ".py",
   "mimetype": "text/x-python",
   "name": "python",
   "nbconvert_exporter": "python",
   "pygments_lexer": "ipython3",
   "version": "3.5.3"
  },
  "nav_menu": {},
  "toc": {
   "navigate_menu": true,
   "number_sections": true,
   "sideBar": true,
   "threshold": 6,
   "toc_cell": true,
   "toc_section_display": "block",
   "toc_window_display": false
  }
 },
 "nbformat": 4,
 "nbformat_minor": 2
}
