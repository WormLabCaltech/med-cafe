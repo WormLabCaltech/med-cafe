{
 "cells": [
  {
   "cell_type": "markdown",
   "metadata": {
    "toc": "true"
   },
   "source": [
    "# Table of Contents\n",
    " <p><div class=\"lev1 toc-item\"><a href=\"#Basic-Statistics\" data-toc-modified-id=\"Basic-Statistics-1\"><span class=\"toc-item-num\">1&nbsp;&nbsp;</span>Basic Statistics</a></div>"
   ]
  },
  {
   "cell_type": "markdown",
   "metadata": {},
   "source": [
    "# Basic Statistics"
   ]
  },
  {
   "cell_type": "markdown",
   "metadata": {},
   "source": [
    "In this Jupyter notebook, I will assemble the dataframe that I will use throughout the rest of the project. Then, I will calculate some relevant statistics (number of genes and isoforms identified in total, number of differentially expressed genes per genotype, average effect sizes and the percent internalization of each genotype. Finally, I will briefly show the benefits of pooling samples instead of using a general linear model (GLM) with interactions to analyze this dataset. To begin, I will import all the relevant libraries."
   ]
  },
  {
   "cell_type": "code",
   "execution_count": 1,
   "metadata": {
    "collapsed": true
   },
   "outputs": [],
   "source": [
    "import pandas as pd\n",
    "import numpy as np\n",
    "import scipy as scipy\n",
    "import statsmodels.api as sm\n",
    "import matplotlib as mpl\n",
    "import matplotlib.pyplot as plt\n",
    "import seaborn as sns\n",
    "from matplotlib import rc\n",
    "import os\n",
    "\n",
    "# import own libraries\n",
    "import pretty_table as pretty\n",
    "\n",
    "# plotting settings\n",
    "import os\n",
    "rc('text', usetex=True)\n",
    "rc('text.latex', preamble=r'\\usepackage{cmbright}')\n",
    "rc('font', **{'family': 'sans-serif', 'sans-serif': ['Helvetica']})\n",
    "\n",
    "%matplotlib inline\n",
    "\n",
    "# This enables SVG graphics inline. \n",
    "%config InlineBackend.figure_formats = {'png', 'retina'}\n",
    "\n",
    "# JB's favorite Seaborn settings for notebooks\n",
    "rc = {'lines.linewidth': 2, \n",
    "      'axes.labelsize': 18, \n",
    "      'axes.titlesize': 18, \n",
    "      'axes.facecolor': 'DFDFE5'}\n",
    "sns.set_context('notebook', rc=rc)\n",
    "sns.set_style(\"dark\")\n",
    "\n",
    "# more parameters\n",
    "mpl.rcParams['xtick.labelsize'] = 16 \n",
    "mpl.rcParams['ytick.labelsize'] = 16 \n",
    "mpl.rcParams['legend.fontsize'] = 14"
   ]
  },
  {
   "cell_type": "markdown",
   "metadata": {},
   "source": [
    "Having imported all the libraries I need, I will define the parameters that I will use for the rest of this Notebook."
   ]
  },
  {
   "cell_type": "code",
   "execution_count": 2,
   "metadata": {
    "collapsed": true
   },
   "outputs": [],
   "source": [
    "strains =['PS4187', 'PS4087', 'PS4176']  # strains to be analyzed\n",
    "q = 0.01  # q-value cutoff\n",
    "\n",
    "strain_dict = {}\n",
    "for i, g in enumerate(strains):\n",
    "    strain_dict[g] = i\n",
    "\n",
    "# experimental design matrix fed into sleuth\n",
    "genmap = pd.read_csv('../sleuth/rna_seq_info.txt', sep='\\t', comment='#')"
   ]
  },
  {
   "cell_type": "markdown",
   "metadata": {},
   "source": [
    "Next, I will open the files containing the beta values output by sleuth for each genotype. If the genotype is not included in the list of genotypes to be analyzed, I will not open the file. Finally, I will make a single dataframe containing all of the data, and work with this unique dataframe."
   ]
  },
  {
   "cell_type": "code",
   "execution_count": 3,
   "metadata": {
    "collapsed": true
   },
   "outputs": [],
   "source": [
    "# open all beta.csv files, and concatenate them into a single dataframe\n",
    "frames = []\n",
    "for root, dirs, files in os.walk(\"../sleuth/sleuth_strains\"):\n",
    "    for file in files:\n",
    "        # don't open likelihood ratio test if there is one\n",
    "        if file == 'lrt.csv':\n",
    "            continue\n",
    "        \n",
    "        # extract the strain identifier from the filename\n",
    "        strain =  file[:-4].replace('_', '-')\n",
    "        \n",
    "        # if the strain isn't in our strainlist, drop it\n",
    "        if strain[2:] not in strains:\n",
    "            continue\n",
    "        \n",
    "        # open the dataframe, and add strain, genotype and order columns\n",
    "        df = pd.read_csv(root + '/' + file, sep=',')\n",
    "        df.sort_values('target_id', inplace=True)\n",
    "        df['strain'] = strain.replace('b-', '')\n",
    "        df['genotype'] = genmap[genmap.strain == file[:-4]].genotype.unique()[0].replace('b_', '').replace('_', '-')\n",
    "        df['order'] = strain_dict[df.strain.unique()[0]]\n",
    "        \n",
    "        # add the dataframe to the list\n",
    "        frames += [df]\n",
    "\n",
    "# concatenate, dropNAs\n",
    "tidy = pd.concat(frames)\n",
    "tidy.dropna(subset=['ens_gene', 'b', 'qval'], inplace=True)\n",
    "tidy['absb'] = tidy.b.abs()\n",
    "tidy.sort_values(['order', 'target_id'], ascending=True, inplace=True)\n",
    "tidy.head()\n",
    "\n",
    "# save this new dataframe\n",
    "tidy.to_csv('../input/quantifications.csv', index=False)"
   ]
  },
  {
   "cell_type": "markdown",
   "metadata": {},
   "source": [
    "Now that we have the dataframe, we can ask how many transcripts we identified in all genotypes, and how many genes these transcripts correspond to."
   ]
  },
  {
   "cell_type": "code",
   "execution_count": 4,
   "metadata": {},
   "outputs": [
    {
     "name": "stdout",
     "output_type": "stream",
     "text": [
      "Total isoforms identified in all genotypes: 21954\n",
      "Total genes identified in all genotypes: 15121\n"
     ]
    }
   ],
   "source": [
    "total_genes_id = tidy.target_id.unique().shape[0]\n",
    "print(\"Total isoforms identified in all genotypes: {0}\".format(total_genes_id))\n",
    "print(\"Total genes identified in all genotypes: {0}\".format(len(tidy.ens_gene.unique())))"
   ]
  },
  {
   "cell_type": "markdown",
   "metadata": {},
   "source": [
    "I can also identify the number of differentially expressed genes for each genotype."
   ]
  },
  {
   "cell_type": "code",
   "execution_count": 5,
   "metadata": {},
   "outputs": [
    {
     "name": "stdout",
     "output_type": "stream",
     "text": [
      "Genotype                      Strain                        DEG                           \n",
      "dpy22.bx93                    PS4187                        205                           \n",
      "dpy22-sy622                   PS4087                        1562                          \n",
      "dpy22-transhet-sy622-bx93     PS4176                        848                           \n"
     ]
    }
   ],
   "source": [
    "pretty.table_print(['Genotype', 'Strain', 'DEG'], space=30)\n",
    "for x in tidy.strain.unique():\n",
    "    # select the DE isoforms in the current genotype:\n",
    "    sel = (tidy.qval < q) & (tidy.strain == x)\n",
    "    # extract the number of unique genes:\n",
    "    s = tidy[sel].ens_gene.unique().shape[0]\n",
    "    genotype = tidy[tidy.strain == x].genotype.unique()[0]\n",
    "    pretty.table_print([genotype, x, s], space=30)"
   ]
  },
  {
   "cell_type": "markdown",
   "metadata": {},
   "source": [
    "Finally, I will calculate a statistic I refer to as internalization. Simply put, internalization measures how much of a small object is contained within a large object. In other words, I want to know what fraction of the transcripts that are differentially expressed in *mdt-12(bx93)* are also differentially expressed in *med-12(sy622)*. The closer the internalization fraction is to 100%, the more *mdt-12(bx93)* is engulfed by *mdt-12(sy622)*."
   ]
  },
  {
   "cell_type": "code",
   "execution_count": 6,
   "metadata": {},
   "outputs": [
    {
     "name": "stdout",
     "output_type": "stream",
     "text": [
      "pair                                              shared GENES                                      internalization                                   \n",
      "dpy22.bx93---dpy22-sy622                          148                                               71%                                               \n",
      "dpy22.bx93---dpy22-transhet-sy622-bx93            128                                               62%                                               \n",
      "dpy22-sy622---dpy22-transhet-sy622-bx93           425                                               48%                                               \n"
     ]
    }
   ],
   "source": [
    "sig = (tidy.qval < q)\n",
    "pretty.table_print(['pair', 'shared GENES', 'internalization'], space=50)\n",
    "for i, g1 in enumerate(tidy.genotype.unique()):\n",
    "    genes1 = tidy[sig & (tidy.genotype == g1)]\n",
    "\n",
    "    for j, g2 in enumerate(tidy.genotype.unique()[i+1:]):\n",
    "        genes2 = tidy[sig & (tidy.genotype == g2)]\n",
    "        \n",
    "        # find the overlap between the two:\n",
    "        size1 = tidy[(tidy.genotype == g1) & (tidy.qval < q)].shape[0]\n",
    "        size2 = tidy[(tidy.genotype == g2) & (tidy.qval < q)].shape[0]\n",
    "        \n",
    "        n_iso = genes2[genes2.target_id.isin(genes1.target_id)].shape[0]\n",
    "        if n_iso/np.min([size1, size2]) > .0:\n",
    "            message = \"{0}---{1}\\t{2}\\t{3:.2g}%\".format(g1, g2, n_iso, 100*n_iso/np.min([size1, size2]))\n",
    "            pretty.table_print(message.split('\\t'), space=50)"
   ]
  },
  {
   "cell_type": "code",
   "execution_count": null,
   "metadata": {
    "collapsed": true
   },
   "outputs": [],
   "source": []
  }
 ],
 "metadata": {
  "kernelspec": {
   "display_name": "Python [default]",
   "language": "python",
   "name": "python3"
  },
  "language_info": {
   "codemirror_mode": {
    "name": "ipython",
    "version": 3
   },
   "file_extension": ".py",
   "mimetype": "text/x-python",
   "name": "python",
   "nbconvert_exporter": "python",
   "pygments_lexer": "ipython3",
   "version": "3.5.3"
  },
  "nav_menu": {},
  "toc": {
   "navigate_menu": true,
   "number_sections": true,
   "sideBar": true,
   "threshold": 6,
   "toc_cell": true,
   "toc_section_display": "block",
   "toc_window_display": false
  }
 },
 "nbformat": 4,
 "nbformat_minor": 2
}
