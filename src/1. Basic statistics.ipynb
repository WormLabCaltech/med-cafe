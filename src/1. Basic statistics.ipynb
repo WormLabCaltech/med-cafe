{
 "cells": [
  {
   "cell_type": "markdown",
   "metadata": {
    "toc": "true"
   },
   "source": [
    "# Table of Contents\n",
    " <p><div class=\"lev1 toc-item\"><a href=\"#Basic-Statistics\" data-toc-modified-id=\"Basic-Statistics-1\"><span class=\"toc-item-num\">1&nbsp;&nbsp;</span>Basic Statistics</a></div>"
   ]
  },
  {
   "cell_type": "markdown",
   "metadata": {},
   "source": [
    "# Basic Statistics"
   ]
  },
  {
   "cell_type": "markdown",
   "metadata": {},
   "source": [
    "In this Jupyter notebook, I will assemble the dataframe that I will use throughout the rest of the project. Then, I will calculate some relevant statistics (number of genes and isoforms identified in total, number of differentially expressed genes per genotype, average effect sizes and the percent internalization of each genotype. Finally, I will briefly show the benefits of pooling samples instead of using a general linear model (GLM) with interactions to analyze this dataset. To begin, I will import all the relevant libraries."
   ]
  },
  {
   "cell_type": "code",
   "execution_count": 1,
   "metadata": {},
   "outputs": [],
   "source": [
    "import pandas as pd\n",
    "import numpy as np\n",
    "import os\n",
    "\n",
    "# import own libraries\n",
    "import pretty_table as pretty"
   ]
  },
  {
   "cell_type": "markdown",
   "metadata": {},
   "source": [
    "Having imported all the libraries I need, I will define the parameters that I will use for the rest of this Notebook."
   ]
  },
  {
   "cell_type": "code",
   "execution_count": 2,
   "metadata": {},
   "outputs": [],
   "source": [
    "strains =['PS4187', 'PS4087', 'PS4176', 'EW15', 'MT4866', 'MT2124'] \n",
    "q = 0.1  # q-value cutoff\n",
    "\n",
    "strain_dict = {}\n",
    "for i, g in enumerate(strains):\n",
    "    strain_dict[g] = i\n",
    "\n",
    "# experimental design matrix fed into sleuth\n",
    "genmap = pd.read_csv('../sleuth/rna_seq_info.txt', sep='\\t', comment='#')\n",
    "# strain to genotype information:\n",
    "names = pd.read_csv('../input/strain_to_genotype.csv', comment='#')"
   ]
  },
  {
   "cell_type": "markdown",
   "metadata": {},
   "source": [
    "Next, I will open the files containing the beta values output by sleuth for each genotype. If the genotype is not included in the list of genotypes to be analyzed, I will not open the file. Finally, I will make a single dataframe containing all of the data, and work with this unique dataframe."
   ]
  },
  {
   "cell_type": "code",
   "execution_count": 3,
   "metadata": {},
   "outputs": [
    {
     "data": {
      "text/html": [
       "<div>\n",
       "<style scoped>\n",
       "    .dataframe tbody tr th:only-of-type {\n",
       "        vertical-align: middle;\n",
       "    }\n",
       "\n",
       "    .dataframe tbody tr th {\n",
       "        vertical-align: top;\n",
       "    }\n",
       "\n",
       "    .dataframe thead th {\n",
       "        text-align: right;\n",
       "    }\n",
       "</style>\n",
       "<table border=\"1\" class=\"dataframe\">\n",
       "  <thead>\n",
       "    <tr style=\"text-align: right;\">\n",
       "      <th></th>\n",
       "      <th>target_id</th>\n",
       "      <th>pval</th>\n",
       "      <th>qval</th>\n",
       "      <th>b</th>\n",
       "      <th>se_b</th>\n",
       "      <th>mean_obs</th>\n",
       "      <th>var_obs</th>\n",
       "      <th>tech_var</th>\n",
       "      <th>sigma_sq</th>\n",
       "      <th>smooth_sigma_sq</th>\n",
       "      <th>final_sigma_sq</th>\n",
       "      <th>ens_gene</th>\n",
       "      <th>ext_gene</th>\n",
       "      <th>description</th>\n",
       "      <th>transcript_biotype</th>\n",
       "      <th>strain</th>\n",
       "      <th>order</th>\n",
       "    </tr>\n",
       "  </thead>\n",
       "  <tbody>\n",
       "    <tr>\n",
       "      <th>10030</th>\n",
       "      <td>2L52.1a</td>\n",
       "      <td>0.631823</td>\n",
       "      <td>1.0</td>\n",
       "      <td>0.180717</td>\n",
       "      <td>0.377153</td>\n",
       "      <td>3.894122</td>\n",
       "      <td>1.016851</td>\n",
       "      <td>0.138264</td>\n",
       "      <td>0.065421</td>\n",
       "      <td>0.075103</td>\n",
       "      <td>0.075103</td>\n",
       "      <td>WBGene00007063</td>\n",
       "      <td>2L52.1</td>\n",
       "      <td>NaN</td>\n",
       "      <td>protein_coding</td>\n",
       "      <td>PS4187</td>\n",
       "      <td>0</td>\n",
       "    </tr>\n",
       "    <tr>\n",
       "      <th>10031</th>\n",
       "      <td>2RSSE.1a</td>\n",
       "      <td>0.623173</td>\n",
       "      <td>1.0</td>\n",
       "      <td>0.174885</td>\n",
       "      <td>0.355922</td>\n",
       "      <td>4.155312</td>\n",
       "      <td>0.594458</td>\n",
       "      <td>0.130296</td>\n",
       "      <td>-0.040266</td>\n",
       "      <td>0.059725</td>\n",
       "      <td>0.059725</td>\n",
       "      <td>WBGene00007064</td>\n",
       "      <td>2RSSE.1</td>\n",
       "      <td>NaN</td>\n",
       "      <td>protein_coding</td>\n",
       "      <td>PS4187</td>\n",
       "      <td>0</td>\n",
       "    </tr>\n",
       "    <tr>\n",
       "      <th>10032</th>\n",
       "      <td>2RSSE.1b</td>\n",
       "      <td>0.813709</td>\n",
       "      <td>1.0</td>\n",
       "      <td>-0.125369</td>\n",
       "      <td>0.532026</td>\n",
       "      <td>3.776130</td>\n",
       "      <td>4.014773</td>\n",
       "      <td>0.153215</td>\n",
       "      <td>0.271363</td>\n",
       "      <td>0.083518</td>\n",
       "      <td>0.271363</td>\n",
       "      <td>WBGene00007064</td>\n",
       "      <td>2RSSE.1</td>\n",
       "      <td>NaN</td>\n",
       "      <td>protein_coding</td>\n",
       "      <td>PS4187</td>\n",
       "      <td>0</td>\n",
       "    </tr>\n",
       "    <tr>\n",
       "      <th>10033</th>\n",
       "      <td>3R5.1a</td>\n",
       "      <td>0.698628</td>\n",
       "      <td>1.0</td>\n",
       "      <td>-0.359459</td>\n",
       "      <td>0.928418</td>\n",
       "      <td>3.571237</td>\n",
       "      <td>1.255171</td>\n",
       "      <td>0.772584</td>\n",
       "      <td>0.520357</td>\n",
       "      <td>0.100956</td>\n",
       "      <td>0.520357</td>\n",
       "      <td>WBGene00007065</td>\n",
       "      <td>pot-3</td>\n",
       "      <td>Protection Of Telomeres 1 (Pot1) homolog  [Sou...</td>\n",
       "      <td>protein_coding</td>\n",
       "      <td>PS4187</td>\n",
       "      <td>0</td>\n",
       "    </tr>\n",
       "    <tr>\n",
       "      <th>10034</th>\n",
       "      <td>3R5.1b</td>\n",
       "      <td>0.899553</td>\n",
       "      <td>1.0</td>\n",
       "      <td>0.061415</td>\n",
       "      <td>0.486547</td>\n",
       "      <td>4.709488</td>\n",
       "      <td>0.096104</td>\n",
       "      <td>0.317846</td>\n",
       "      <td>-0.251474</td>\n",
       "      <td>0.037246</td>\n",
       "      <td>0.037246</td>\n",
       "      <td>WBGene00007065</td>\n",
       "      <td>pot-3</td>\n",
       "      <td>Protection Of Telomeres 1 (Pot1) homolog  [Sou...</td>\n",
       "      <td>protein_coding</td>\n",
       "      <td>PS4187</td>\n",
       "      <td>0</td>\n",
       "    </tr>\n",
       "  </tbody>\n",
       "</table>\n",
       "</div>"
      ],
      "text/plain": [
       "      target_id      pval  qval         b      se_b  mean_obs   var_obs  \\\n",
       "10030   2L52.1a  0.631823   1.0  0.180717  0.377153  3.894122  1.016851   \n",
       "10031  2RSSE.1a  0.623173   1.0  0.174885  0.355922  4.155312  0.594458   \n",
       "10032  2RSSE.1b  0.813709   1.0 -0.125369  0.532026  3.776130  4.014773   \n",
       "10033    3R5.1a  0.698628   1.0 -0.359459  0.928418  3.571237  1.255171   \n",
       "10034    3R5.1b  0.899553   1.0  0.061415  0.486547  4.709488  0.096104   \n",
       "\n",
       "       tech_var  sigma_sq  smooth_sigma_sq  final_sigma_sq        ens_gene  \\\n",
       "10030  0.138264  0.065421         0.075103        0.075103  WBGene00007063   \n",
       "10031  0.130296 -0.040266         0.059725        0.059725  WBGene00007064   \n",
       "10032  0.153215  0.271363         0.083518        0.271363  WBGene00007064   \n",
       "10033  0.772584  0.520357         0.100956        0.520357  WBGene00007065   \n",
       "10034  0.317846 -0.251474         0.037246        0.037246  WBGene00007065   \n",
       "\n",
       "      ext_gene                                        description  \\\n",
       "10030   2L52.1                                                NaN   \n",
       "10031  2RSSE.1                                                NaN   \n",
       "10032  2RSSE.1                                                NaN   \n",
       "10033    pot-3  Protection Of Telomeres 1 (Pot1) homolog  [Sou...   \n",
       "10034    pot-3  Protection Of Telomeres 1 (Pot1) homolog  [Sou...   \n",
       "\n",
       "      transcript_biotype  strain  order  \n",
       "10030     protein_coding  PS4187      0  \n",
       "10031     protein_coding  PS4187      0  \n",
       "10032     protein_coding  PS4187      0  \n",
       "10033     protein_coding  PS4187      0  \n",
       "10034     protein_coding  PS4187      0  "
      ]
     },
     "execution_count": 3,
     "metadata": {},
     "output_type": "execute_result"
    }
   ],
   "source": [
    "# open all beta.csv files, and concatenate them into a single dataframe\n",
    "frames = []\n",
    "for root, dirs, files in os.walk(\"../sleuth/sleuth_strains\"):\n",
    "    for file in files:\n",
    "        # don't open likelihood ratio test if there is one\n",
    "        if file == 'lrt.csv':\n",
    "            continue\n",
    "\n",
    "        # extract the strain identifier from the filename\n",
    "        strain =  file[:-4].replace('_', '-')\n",
    "\n",
    "        # if the strain isn't in our strainlist, drop it\n",
    "        if strain[2:] not in strains:\n",
    "            continue\n",
    "\n",
    "        # open the dataframe, and add strain, genotype and order columns\n",
    "        df = pd.read_csv(root + '/' + file, sep=',')\n",
    "        df.sort_values('target_id', inplace=True)\n",
    "        df['strain'] = strain.replace('b-', '')\n",
    "        df['order'] = strain_dict[df.strain.unique()[0]]\n",
    "\n",
    "        # add the dataframe to the list\n",
    "        frames += [df]\n",
    "\n",
    "# concatenate, dropNAs\n",
    "tidy = pd.concat(frames)\n",
    "tidy.dropna(subset=['ens_gene', 'b', 'qval'], inplace=True)\n",
    "\n",
    "# sort by a pre-determined value, and then by target_id. Always sort like this\n",
    "tidy.sort_values(['order', 'target_id'], ascending=True, inplace=True)\n",
    "\n",
    "# drop the first column because it doesn't contain anything.\n",
    "tidy.drop([tidy.columns[0]], axis=1, inplace=True)\n",
    "\n",
    "\n",
    "tidy.head()"
   ]
  },
  {
   "cell_type": "code",
   "execution_count": 4,
   "metadata": {},
   "outputs": [],
   "source": [
    "def strain_to_map(names, col='Alleles'):\n",
    "    \"\"\"\n",
    "    A function to generate a dictionary of strain values to another column\n",
    "    in the `names` dataframe.\n",
    "    \n",
    "    Params:\n",
    "    -------\n",
    "    names: pandas DataFrame. Must contain a `Strain` column\n",
    "    col: string. Column name to associate values with.\n",
    "    \n",
    "    Output:\n",
    "    strain_to: dictionary of Strain values to `col` values.\n",
    "    \"\"\"\n",
    "    strain_to  = {names.Strain.values[i]: names[col].values[i]\n",
    "                  for i in np.arange(len(names))}\n",
    "    return strain_to\n",
    "\n",
    "strain_to_allele = strain_to_map(names)\n",
    "strain_to_genotype = strain_to_map(names, 'Genotype')\n",
    "strain_to_fancy = strain_to_map(names, 'FancyName')"
   ]
  },
  {
   "cell_type": "code",
   "execution_count": 5,
   "metadata": {},
   "outputs": [],
   "source": [
    "tidy['fancy'] = tidy.strain.map(strain_to_fancy)\n",
    "tidy['allele'] = tidy.strain.map(strain_to_allele)\n",
    "tidy['genotype'] = tidy.strain.map(strain_to_allele)"
   ]
  },
  {
   "cell_type": "code",
   "execution_count": 6,
   "metadata": {},
   "outputs": [],
   "source": [
    "# save this new dataframe\n",
    "tidy.to_csv('../input/quantifications.csv', index=False)"
   ]
  },
  {
   "cell_type": "markdown",
   "metadata": {},
   "source": [
    "Now that we have the dataframe, we can ask how many transcripts we identified in all genotypes, and how many genes these transcripts correspond to."
   ]
  },
  {
   "cell_type": "code",
   "execution_count": 7,
   "metadata": {},
   "outputs": [
    {
     "name": "stdout",
     "output_type": "stream",
     "text": [
      "Total isoforms identified in all genotypes: 19416\n",
      "Total genes identified in all genotypes: 13704\n"
     ]
    }
   ],
   "source": [
    "total_genes_id = tidy.target_id.unique().shape[0]\n",
    "\n",
    "m = \"Total isoforms identified in all genotypes: {0}\"\n",
    "print(m.format(total_genes_id))\n",
    "\n",
    "m = \"Total genes identified in all genotypes: {0}\"\n",
    "print(m.format(len(tidy.ens_gene.unique())))"
   ]
  },
  {
   "cell_type": "markdown",
   "metadata": {},
   "source": [
    "I can also identify the number of differentially expressed genes for each genotype."
   ]
  },
  {
   "cell_type": "code",
   "execution_count": 8,
   "metadata": {},
   "outputs": [
    {
     "name": "stdout",
     "output_type": "stream",
     "text": [
      "Genotype            Strain              DEG                 \n",
      "bx93                PS4187              266                 \n",
      "bx93/sy622          PS4176              2128                \n",
      "ga80                EW15                4613                \n",
      "n1046               MT2124              2526                \n",
      "n2021               MT4866              509                 \n",
      "sy622               PS4087              2036                \n"
     ]
    }
   ],
   "source": [
    "sig = (tidy.qval < q)\n",
    "pretty.table_print(['Genotype', 'Strain', 'DEG'])\n",
    "for genotype, group in tidy[sig].groupby('genotype'):\n",
    "    # select the DE isoforms in the current genotype:\n",
    "    strain = group.strain.unique()[0]\n",
    "    deg = len(group.ens_gene.unique())\n",
    "    pretty.table_print([genotype, strain, deg])"
   ]
  },
  {
   "cell_type": "markdown",
   "metadata": {},
   "source": [
    "Finally, I will calculate a statistic I refer to as internalization. Simply put, internalization measures how much of a small object is contained within a large object. In other words, I want to know what fraction of the transcripts that are differentially expressed in *mdt-12(bx93)* are also differentially expressed in *med-12(sy622)*. The closer the internalization fraction is to 100%, the more *mdt-12(bx93)* is engulfed by *mdt-12(sy622)*."
   ]
  },
  {
   "cell_type": "code",
   "execution_count": 9,
   "metadata": {},
   "outputs": [
    {
     "name": "stdout",
     "output_type": "stream",
     "text": [
      "pair             shared GENES     internalization  internal         \n",
      "bx93-bx93/sy622  192              0.72             bx93             \n",
      "bx93-ga80        184              0.69             bx93             \n",
      "bx93-n1046       130              0.49             bx93             \n",
      "bx93-n2021       56               0.21             bx93             \n",
      "bx93-sy622       189              0.71             bx93             \n",
      "bx93/sy622-ga80  1399             0.62             bx93/sy622       \n",
      "bx93/sy622-n1046 981              0.44             bx93/sy622       \n",
      "bx93/sy622-n2021 250              0.47             n2021            \n",
      "bx93/sy622-sy622 836              0.39             sy622            \n",
      "ga80-n1046       1947             0.76             n1046            \n",
      "ga80-n2021       324              0.61             n2021            \n",
      "ga80-sy622       1314             0.62             sy622            \n",
      "n1046-n2021      144              0.27             n2021            \n",
      "n1046-sy622      597              0.28             sy622            \n",
      "n2021-sy622      263              0.5              n2021            \n"
     ]
    }
   ],
   "source": [
    "pretty.table_print(['pair', 'shared GENES', 'internalization',\n",
    "                    'internal'], space=17)\n",
    "\n",
    "passed = []\n",
    "for genotype1, group1 in tidy[sig].groupby('genotype'):\n",
    "    for genotype2, group2 in tidy[sig].groupby('genotype'):\n",
    "        if genotype1 == genotype2:\n",
    "            continue\n",
    "\n",
    "        passed += [genotype2 + genotype1]\n",
    "        if genotype1 + genotype2 in passed:\n",
    "            continue\n",
    "\n",
    "        # find the size of each group:\n",
    "        size1 = group1.shape[0]\n",
    "        size2 = group2.shape[0]\n",
    "        # find the overlap between both genotypes\n",
    "        overlap = group1[group1.target_id.isin(group2.target_id)]\n",
    "        overlap = len(overlap.target_id.unique())\n",
    "        \n",
    "        # find whichever group is smaller:\n",
    "        denominator = np.min([size1, size2])\n",
    "        \n",
    "        # record which group is smaller:\n",
    "        if size1 < size2:\n",
    "            internal = genotype1\n",
    "        else:\n",
    "            internal = genotype2\n",
    "        \n",
    "        # generate a message to pretty print\n",
    "        m = \"{0}-{1}\\t\".format(genotype1, genotype2)\n",
    "        m += \"{0}\\t\".format(overlap)\n",
    "        m += \"{0:.2g}\\t\".format(overlap/denominator)\n",
    "        m += \"{0}\".format(internal)\n",
    "        \n",
    "        # pretty print:\n",
    "        pretty.table_print(m.split('\\t'), space=17)"
   ]
  }
 ],
 "metadata": {
  "kernelspec": {
   "display_name": "Python 3",
   "language": "python",
   "name": "python3"
  },
  "language_info": {
   "codemirror_mode": {
    "name": "ipython",
    "version": 3
   },
   "file_extension": ".py",
   "mimetype": "text/x-python",
   "name": "python",
   "nbconvert_exporter": "python",
   "pygments_lexer": "ipython3",
   "version": "3.6.4"
  },
  "nav_menu": {},
  "toc": {
   "navigate_menu": true,
   "number_sections": true,
   "sideBar": true,
   "threshold": 6,
   "toc_cell": true,
   "toc_section_display": "block",
   "toc_window_display": false
  }
 },
 "nbformat": 4,
 "nbformat_minor": 2
}
