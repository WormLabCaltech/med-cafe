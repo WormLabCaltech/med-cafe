{
 "cells": [
  {
   "cell_type": "markdown",
   "metadata": {
    "toc": "true"
   },
   "source": [
    "# Table of Contents\n",
    " <p><div class=\"lev1 toc-item\"><a href=\"#Basic-Statistics\" data-toc-modified-id=\"Basic-Statistics-1\"><span class=\"toc-item-num\">1&nbsp;&nbsp;</span>Basic Statistics</a></div>"
   ]
  },
  {
   "cell_type": "markdown",
   "metadata": {},
   "source": [
    "# Basic Statistics"
   ]
  },
  {
   "cell_type": "markdown",
   "metadata": {},
   "source": [
    "In this Jupyter notebook, I will assemble the dataframe that I will use throughout the rest of the project. Then, I will calculate some relevant statistics (number of genes and isoforms identified in total, number of differentially expressed genes per genotype, average effect sizes and the percent internalization of each genotype. Finally, I will briefly show the benefits of pooling samples instead of using a general linear model (GLM) with interactions to analyze this dataset. To begin, I will import all the relevant libraries."
   ]
  },
  {
   "cell_type": "code",
   "execution_count": 20,
   "metadata": {},
   "outputs": [],
   "source": [
    "import pandas as pd\n",
    "import numpy as np\n",
    "import os\n",
    "\n",
    "# import own libraries\n",
    "import pretty_table as pretty"
   ]
  },
  {
   "cell_type": "markdown",
   "metadata": {},
   "source": [
    "Having imported all the libraries I need, I will define the parameters that I will use for the rest of this Notebook."
   ]
  },
  {
   "cell_type": "code",
   "execution_count": 21,
   "metadata": {},
   "outputs": [],
   "source": [
    "# place the strains we will use in a list:\n",
    "strains =['PS4187', 'PS4087', 'PS4176', 'EW15', 'MT4866', 'MT2124'] \n",
    "q = 0.1  # q-value cutoff\n",
    "\n",
    "# place the strain list into a dictionary\n",
    "strain_dict = {strains[i]: 1 for i in range(len(strains))}\n",
    "\n",
    "# experimental design matrix fed into sleuth\n",
    "genmap = pd.read_csv('../sleuth/rna_seq_info.txt', sep='\\t', comment='#')\n",
    "\n",
    "# strain to genotype information:\n",
    "names = pd.read_csv('../input/strain_to_genotype.csv', comment='#')"
   ]
  },
  {
   "cell_type": "markdown",
   "metadata": {},
   "source": [
    "Next, I will open the files containing the beta values output by sleuth for each genotype. If the genotype is not included in the list of genotypes to be analyzed, I will not open the file. Finally, I will make a single dataframe containing all of the data, and work with this unique dataframe."
   ]
  },
  {
   "cell_type": "code",
   "execution_count": 23,
   "metadata": {},
   "outputs": [
    {
     "data": {
      "text/html": [
       "<div>\n",
       "<style scoped>\n",
       "    .dataframe tbody tr th:only-of-type {\n",
       "        vertical-align: middle;\n",
       "    }\n",
       "\n",
       "    .dataframe tbody tr th {\n",
       "        vertical-align: top;\n",
       "    }\n",
       "\n",
       "    .dataframe thead th {\n",
       "        text-align: right;\n",
       "    }\n",
       "</style>\n",
       "<table border=\"1\" class=\"dataframe\">\n",
       "  <thead>\n",
       "    <tr style=\"text-align: right;\">\n",
       "      <th></th>\n",
       "      <th>target_id</th>\n",
       "      <th>pval</th>\n",
       "      <th>qval</th>\n",
       "      <th>b</th>\n",
       "      <th>se_b</th>\n",
       "      <th>mean_obs</th>\n",
       "      <th>var_obs</th>\n",
       "      <th>tech_var</th>\n",
       "      <th>sigma_sq</th>\n",
       "      <th>smooth_sigma_sq</th>\n",
       "      <th>final_sigma_sq</th>\n",
       "      <th>ens_gene</th>\n",
       "      <th>ext_gene</th>\n",
       "      <th>description</th>\n",
       "      <th>transcript_biotype</th>\n",
       "      <th>strain</th>\n",
       "      <th>order</th>\n",
       "    </tr>\n",
       "  </thead>\n",
       "  <tbody>\n",
       "    <tr>\n",
       "      <th>19635</th>\n",
       "      <td>2L52.1a</td>\n",
       "      <td>0.892540</td>\n",
       "      <td>0.984461</td>\n",
       "      <td>-0.047659</td>\n",
       "      <td>0.352794</td>\n",
       "      <td>3.894122</td>\n",
       "      <td>1.016851</td>\n",
       "      <td>0.138264</td>\n",
       "      <td>0.065421</td>\n",
       "      <td>0.075103</td>\n",
       "      <td>0.075103</td>\n",
       "      <td>WBGene00007063</td>\n",
       "      <td>2L52.1</td>\n",
       "      <td>NaN</td>\n",
       "      <td>protein_coding</td>\n",
       "      <td>PS4176</td>\n",
       "      <td>1</td>\n",
       "    </tr>\n",
       "    <tr>\n",
       "      <th>17497</th>\n",
       "      <td>2L52.1a</td>\n",
       "      <td>0.755861</td>\n",
       "      <td>0.936079</td>\n",
       "      <td>0.117265</td>\n",
       "      <td>0.377153</td>\n",
       "      <td>3.894122</td>\n",
       "      <td>1.016851</td>\n",
       "      <td>0.138264</td>\n",
       "      <td>0.065421</td>\n",
       "      <td>0.075103</td>\n",
       "      <td>0.075103</td>\n",
       "      <td>WBGene00007063</td>\n",
       "      <td>2L52.1</td>\n",
       "      <td>NaN</td>\n",
       "      <td>protein_coding</td>\n",
       "      <td>EW15</td>\n",
       "      <td>1</td>\n",
       "    </tr>\n",
       "    <tr>\n",
       "      <th>13347</th>\n",
       "      <td>2L52.1a</td>\n",
       "      <td>0.609008</td>\n",
       "      <td>0.987898</td>\n",
       "      <td>0.192910</td>\n",
       "      <td>0.377153</td>\n",
       "      <td>3.894122</td>\n",
       "      <td>1.016851</td>\n",
       "      <td>0.138264</td>\n",
       "      <td>0.065421</td>\n",
       "      <td>0.075103</td>\n",
       "      <td>0.075103</td>\n",
       "      <td>WBGene00007063</td>\n",
       "      <td>2L52.1</td>\n",
       "      <td>NaN</td>\n",
       "      <td>protein_coding</td>\n",
       "      <td>MT2124</td>\n",
       "      <td>1</td>\n",
       "    </tr>\n",
       "    <tr>\n",
       "      <th>10030</th>\n",
       "      <td>2L52.1a</td>\n",
       "      <td>0.631823</td>\n",
       "      <td>1.000000</td>\n",
       "      <td>0.180717</td>\n",
       "      <td>0.377153</td>\n",
       "      <td>3.894122</td>\n",
       "      <td>1.016851</td>\n",
       "      <td>0.138264</td>\n",
       "      <td>0.065421</td>\n",
       "      <td>0.075103</td>\n",
       "      <td>0.075103</td>\n",
       "      <td>WBGene00007063</td>\n",
       "      <td>2L52.1</td>\n",
       "      <td>NaN</td>\n",
       "      <td>protein_coding</td>\n",
       "      <td>PS4187</td>\n",
       "      <td>1</td>\n",
       "    </tr>\n",
       "    <tr>\n",
       "      <th>20447</th>\n",
       "      <td>2L52.1a</td>\n",
       "      <td>0.944533</td>\n",
       "      <td>0.999687</td>\n",
       "      <td>-0.026240</td>\n",
       "      <td>0.377153</td>\n",
       "      <td>3.894122</td>\n",
       "      <td>1.016851</td>\n",
       "      <td>0.138264</td>\n",
       "      <td>0.065421</td>\n",
       "      <td>0.075103</td>\n",
       "      <td>0.075103</td>\n",
       "      <td>WBGene00007063</td>\n",
       "      <td>2L52.1</td>\n",
       "      <td>NaN</td>\n",
       "      <td>protein_coding</td>\n",
       "      <td>PS4087</td>\n",
       "      <td>1</td>\n",
       "    </tr>\n",
       "  </tbody>\n",
       "</table>\n",
       "</div>"
      ],
      "text/plain": [
       "      target_id      pval      qval         b      se_b  mean_obs   var_obs  \\\n",
       "19635   2L52.1a  0.892540  0.984461 -0.047659  0.352794  3.894122  1.016851   \n",
       "17497   2L52.1a  0.755861  0.936079  0.117265  0.377153  3.894122  1.016851   \n",
       "13347   2L52.1a  0.609008  0.987898  0.192910  0.377153  3.894122  1.016851   \n",
       "10030   2L52.1a  0.631823  1.000000  0.180717  0.377153  3.894122  1.016851   \n",
       "20447   2L52.1a  0.944533  0.999687 -0.026240  0.377153  3.894122  1.016851   \n",
       "\n",
       "       tech_var  sigma_sq  smooth_sigma_sq  final_sigma_sq        ens_gene  \\\n",
       "19635  0.138264  0.065421         0.075103        0.075103  WBGene00007063   \n",
       "17497  0.138264  0.065421         0.075103        0.075103  WBGene00007063   \n",
       "13347  0.138264  0.065421         0.075103        0.075103  WBGene00007063   \n",
       "10030  0.138264  0.065421         0.075103        0.075103  WBGene00007063   \n",
       "20447  0.138264  0.065421         0.075103        0.075103  WBGene00007063   \n",
       "\n",
       "      ext_gene description transcript_biotype  strain  order  \n",
       "19635   2L52.1         NaN     protein_coding  PS4176      1  \n",
       "17497   2L52.1         NaN     protein_coding    EW15      1  \n",
       "13347   2L52.1         NaN     protein_coding  MT2124      1  \n",
       "10030   2L52.1         NaN     protein_coding  PS4187      1  \n",
       "20447   2L52.1         NaN     protein_coding  PS4087      1  "
      ]
     },
     "execution_count": 23,
     "metadata": {},
     "output_type": "execute_result"
    }
   ],
   "source": [
    "# open all beta.csv files, and concatenate them into a single dataframe\n",
    "frames = []\n",
    "for root, dirs, files in os.walk(\"../sleuth/sleuth_strains\"):\n",
    "    for file in files:\n",
    "        # don't open likelihood ratio test if there is one\n",
    "        if file == 'lrt.csv':\n",
    "            continue\n",
    "\n",
    "        # extract the strain identifier from the filename\n",
    "        strain =  file[:-4].replace('_', '-')\n",
    "\n",
    "        # if the strain isn't in our strainlist, drop it\n",
    "        if strain[2:] not in strains:\n",
    "            continue\n",
    "\n",
    "        # open the dataframe, and add strain, genotype and order columns\n",
    "        df = pd.read_csv(root + '/' + file, sep=',')\n",
    "        df.sort_values('target_id', inplace=True)\n",
    "        df['strain'] = strain.replace('b-', '')\n",
    "        df['order'] = strain_dict[df.strain.unique()[0]]\n",
    "\n",
    "        # add the dataframe to the list\n",
    "        frames += [df]\n",
    "\n",
    "# concatenate, dropNAs\n",
    "tidy = pd.concat(frames)\n",
    "tidy.dropna(subset=['ens_gene', 'b', 'qval'], inplace=True)\n",
    "\n",
    "# sort by a pre-determined value, and then by target_id. Always sort like this\n",
    "tidy.sort_values(['order', 'target_id'], ascending=True, inplace=True)\n",
    "\n",
    "# drop the first column because it doesn't contain anything.\n",
    "tidy.drop([tidy.columns[0]], axis=1, inplace=True)\n",
    "\n",
    "# final dataframe. I will use this dataframe throughout\n",
    "tidy.head()"
   ]
  },
  {
   "cell_type": "markdown",
   "metadata": {},
   "source": [
    "Next, I need to annotate the dataframe. I will do that by using another dataframe called `names` that associates genotypes with strain IDs in various formats. "
   ]
  },
  {
   "cell_type": "code",
   "execution_count": 24,
   "metadata": {},
   "outputs": [],
   "source": [
    "def strain_to_map(names, col='Alleles'):\n",
    "    \"\"\"\n",
    "    A function to generate a dictionary of strain values to another column\n",
    "    in the `names` dataframe.\n",
    "    \n",
    "    Params:\n",
    "    -------\n",
    "    names: pandas DataFrame. Must contain a `Strain` column\n",
    "    col: string. Column name to associate values with.\n",
    "    \n",
    "    Output:\n",
    "    strain_to: dictionary of Strain values to `col` values.\n",
    "    \"\"\"\n",
    "    strain_to  = {names.Strain.values[i]: names[col].values[i]\n",
    "                  for i in np.arange(len(names))}\n",
    "    return strain_to\n",
    "\n",
    "# generate a dictionary relating strain to the alleles in that strain:\n",
    "strain_to_allele = strain_to_map(names)\n",
    "# generate a dictionary relating strain to the genotype in that strain in\n",
    "# code-friendly format\n",
    "strain_to_genotype = strain_to_map(names, 'Genotype')\n",
    "\n",
    "# generate a dictionary relating strain to the genotype in that strain in a\n",
    "# fancy format appropriate for publication\n",
    "strain_to_fancy = strain_to_map(names, 'FancyName')"
   ]
  },
  {
   "cell_type": "code",
   "execution_count": 25,
   "metadata": {},
   "outputs": [],
   "source": [
    "# annotate the dataframe using the dictionaries above\n",
    "tidy['fancy'] = tidy.strain.map(strain_to_fancy)\n",
    "tidy['allele'] = tidy.strain.map(strain_to_allele)\n",
    "tidy['genotype'] = tidy.strain.map(strain_to_allele)"
   ]
  },
  {
   "cell_type": "code",
   "execution_count": 26,
   "metadata": {},
   "outputs": [],
   "source": [
    "# save this new dataframe\n",
    "tidy.to_csv('../input/quantifications.csv', index=False)"
   ]
  },
  {
   "cell_type": "markdown",
   "metadata": {},
   "source": [
    "Now that we have the dataframe, we can ask how many transcripts we identified in all genotypes, and how many genes these transcripts correspond to."
   ]
  },
  {
   "cell_type": "code",
   "execution_count": 27,
   "metadata": {},
   "outputs": [
    {
     "name": "stdout",
     "output_type": "stream",
     "text": [
      "Total isoforms identified in all genotypes: 19416\n",
      "Total genes identified in all genotypes: 13704\n"
     ]
    }
   ],
   "source": [
    "total_genes_id = tidy.target_id.unique().shape[0]\n",
    "\n",
    "m = \"Total isoforms identified in all genotypes: {0}\"\n",
    "print(m.format(total_genes_id))\n",
    "\n",
    "m = \"Total genes identified in all genotypes: {0}\"\n",
    "print(m.format(len(tidy.ens_gene.unique())))"
   ]
  },
  {
   "cell_type": "markdown",
   "metadata": {},
   "source": [
    "I can also identify the number of differentially expressed genes for each genotype."
   ]
  },
  {
   "cell_type": "code",
   "execution_count": 28,
   "metadata": {},
   "outputs": [
    {
     "name": "stdout",
     "output_type": "stream",
     "text": [
      "Genotype            Strain              DEG                 \n",
      "bx93                PS4187              266                 \n",
      "bx93/sy622          PS4176              2128                \n",
      "ga80                EW15                4613                \n",
      "n1046               MT2124              2526                \n",
      "n2021               MT4866              509                 \n",
      "sy622               PS4087              2036                \n"
     ]
    }
   ],
   "source": [
    "# subset to keep only DE genes:\n",
    "sig = (tidy.qval < q)\n",
    "\n",
    "# print table title\n",
    "pretty.table_print(['Genotype', 'Strain', 'DEG'])\n",
    "\n",
    "# group dataframe by genotypes, and count DE genes\n",
    "for genotype, group in tidy[sig].groupby('genotype'):\n",
    "    # extract strain name of the current group\n",
    "    strain = group.strain.unique()[0]\n",
    "    # find number of DE genes in group:\n",
    "    deg = len(group.ens_gene.unique())\n",
    "    # pretty print\n",
    "    pretty.table_print([genotype, strain, deg])"
   ]
  },
  {
   "cell_type": "markdown",
   "metadata": {},
   "source": [
    "Finally, I will calculate a statistic I refer to as internalization. Simply put, internalization measures how much of a small object is contained within a large object. In other words, I want to know what fraction of the transcripts that are differentially expressed in *mdt-12(bx93)* are also differentially expressed in *med-12(sy622)*. The closer the internalization fraction is to 100%, the more *mdt-12(bx93)* is engulfed by *mdt-12(sy622)*."
   ]
  },
  {
   "cell_type": "code",
   "execution_count": 29,
   "metadata": {},
   "outputs": [
    {
     "name": "stdout",
     "output_type": "stream",
     "text": [
      "pair             shared GENES     internalization  internal         \n",
      "bx93-bx93/sy622  192              0.72             bx93             \n",
      "bx93-ga80        184              0.69             bx93             \n",
      "bx93-n1046       130              0.49             bx93             \n",
      "bx93-n2021       56               0.21             bx93             \n",
      "bx93-sy622       189              0.71             bx93             \n",
      "bx93/sy622-ga80  1399             0.62             bx93/sy622       \n",
      "bx93/sy622-n1046 981              0.44             bx93/sy622       \n",
      "bx93/sy622-n2021 250              0.47             n2021            \n",
      "bx93/sy622-sy622 836              0.39             sy622            \n",
      "ga80-n1046       1947             0.76             n1046            \n",
      "ga80-n2021       324              0.61             n2021            \n",
      "ga80-sy622       1314             0.62             sy622            \n",
      "n1046-n2021      144              0.27             n2021            \n",
      "n1046-sy622      597              0.28             sy622            \n",
      "n2021-sy622      263              0.5              n2021            \n"
     ]
    }
   ],
   "source": [
    "pretty.table_print(['pair', 'shared GENES', 'internalization',\n",
    "                    'internal'], space=17)\n",
    "\n",
    "passed = []\n",
    "# group the dataframe by genotype:\n",
    "for genotype1, group1 in tidy[sig].groupby('genotype'):\n",
    "    # group the dataframe by genotype again.\n",
    "    for genotype2, group2 in tidy[sig].groupby('genotype'):\n",
    "        \n",
    "        # make sure the genotypes are not the same\n",
    "        if genotype1 == genotype2:\n",
    "            continue\n",
    "        \n",
    "        # I only want to enumerate the genotype pairwise combinations once.\n",
    "        # The for loop enumerates them twice.\n",
    "        # So keep track of which combinations we don't need by adding to\n",
    "        # a list\n",
    "        passed += [genotype2 + genotype1]\n",
    "        if genotype1 + genotype2 in passed:\n",
    "            continue\n",
    "\n",
    "        # find the size of each group:\n",
    "        size1 = group1.shape[0]\n",
    "        size2 = group2.shape[0]\n",
    "\n",
    "        # find the overlap between both genotypes\n",
    "        overlap = group1[group1.target_id.isin(group2.target_id)]\n",
    "        overlap = overlap.target_id.nunique()\n",
    "        \n",
    "        # find whichever group is smaller:\n",
    "        denominator = np.min([size1, size2])\n",
    "        \n",
    "        # record which group is smaller:\n",
    "        if size1 < size2:\n",
    "            internal = genotype1\n",
    "        else:\n",
    "            internal = genotype2\n",
    "        \n",
    "        # generate a message to pretty print\n",
    "        # print the genotype combination:\n",
    "        m = \"{0}-{1}\\t\".format(genotype1, genotype2)\n",
    "        # print the number of genes that overlap\n",
    "        m += \"{0}\\t\".format(overlap)\n",
    "        # print the internalized fraction of genes that overlap\n",
    "        m += \"{0:.2g}\\t\".format(overlap/denominator)\n",
    "        # print which genotype is internalized\n",
    "        m += \"{0}\".format(internal)\n",
    "        \n",
    "        # pretty print:\n",
    "        pretty.table_print(m.split('\\t'), space=17)"
   ]
  }
 ],
 "metadata": {
  "kernelspec": {
   "display_name": "Python 3",
   "language": "python",
   "name": "python3"
  },
  "language_info": {
   "codemirror_mode": {
    "name": "ipython",
    "version": 3
   },
   "file_extension": ".py",
   "mimetype": "text/x-python",
   "name": "python",
   "nbconvert_exporter": "python",
   "pygments_lexer": "ipython3",
   "version": "3.6.4"
  },
  "nav_menu": {},
  "toc": {
   "navigate_menu": true,
   "number_sections": true,
   "sideBar": true,
   "threshold": 6,
   "toc_cell": true,
   "toc_section_display": "block",
   "toc_window_display": false
  }
 },
 "nbformat": 4,
 "nbformat_minor": 2
}
