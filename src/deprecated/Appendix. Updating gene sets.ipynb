{
 "cells": [
  {
   "cell_type": "markdown",
   "metadata": {
    "toc": "true"
   },
   "source": [
    "# Table of Contents\n",
    " <p><div class=\"lev1 toc-item\"><a href=\"#Defining-the-hypoxia-response.-See-our-paper\" data-toc-modified-id=\"Defining-the-hypoxia-response.-See-our-paper-1\"><span class=\"toc-item-num\">1&nbsp;&nbsp;</span>Defining the hypoxia response. See our paper</a></div><div class=\"lev1 toc-item\"><a href=\"#Defining-the-Dpy-phenotype-response\" data-toc-modified-id=\"Defining-the-Dpy-phenotype-response-2\"><span class=\"toc-item-num\">2&nbsp;&nbsp;</span>Defining the Dpy phenotype response</a></div><div class=\"lev1 toc-item\"><a href=\"#Defining-the-Ras-response\" data-toc-modified-id=\"Defining-the-Ras-response-3\"><span class=\"toc-item-num\">3&nbsp;&nbsp;</span>Defining the Ras response</a></div><div class=\"lev1 toc-item\"><a href=\"#Defining-the-Wnt-response\" data-toc-modified-id=\"Defining-the-Wnt-response-4\"><span class=\"toc-item-num\">4&nbsp;&nbsp;</span>Defining the Wnt response</a></div>"
   ]
  },
  {
   "cell_type": "code",
   "execution_count": 1,
   "metadata": {
    "collapsed": true
   },
   "outputs": [],
   "source": [
    "import epistasis as epi\n",
    "import pandas as pd\n",
    "import numpy as np\n",
    "import scipy as scipy\n",
    "import sklearn.decomposition\n",
    "import matplotlib as mpl\n",
    "import matplotlib.pyplot as plt\n",
    "import seaborn as sns\n",
    "from matplotlib import rc\n",
    "import os\n",
    "rc('text', usetex=True)\n",
    "rc('text.latex', preamble=r'\\usepackage{cmbright}')\n",
    "rc('font', **{'family': 'sans-serif', 'sans-serif': ['Helvetica']})\n",
    "\n",
    "\n",
    "%matplotlib inline\n",
    "\n",
    "# This enables SVG graphics inline. \n",
    "%config InlineBackend.figure_formats = {'png', 'retina'}\n",
    "\n",
    "# JB's favorite Seaborn settings for notebooks\n",
    "rc = {'lines.linewidth': 2, \n",
    "      'axes.labelsize': 18, \n",
    "      'axes.titlesize': 18, \n",
    "      'axes.facecolor': 'DFDFE5'}\n",
    "sns.set_context('notebook', rc=rc)\n",
    "sns.set_style(\"dark\")\n",
    "\n",
    "mpl.rcParams['xtick.labelsize'] = 16 \n",
    "mpl.rcParams['ytick.labelsize'] = 16 \n",
    "mpl.rcParams['legend.fontsize'] = 14"
   ]
  },
  {
   "cell_type": "code",
   "execution_count": 2,
   "metadata": {},
   "outputs": [
    {
     "name": "stdout",
     "output_type": "stream",
     "text": [
      "b-CB6088\n",
      "['b_egl9_hif1']\n"
     ]
    }
   ],
   "source": [
    "genmap = pd.read_csv('../sleuth/rna_seq_info.txt', sep='\\t', comment='#')\n",
    "frames = []\n",
    "\n",
    "for root, dirs, files in os.walk(\"../sleuth/sleuth_strains\"):\n",
    "    for file in files:\n",
    "        if file == 'lrt.csv':\n",
    "            continue\n",
    "        \n",
    "        strain =  file[:-4].replace('_', '-')\n",
    "        df = pd.read_csv(root + '/' + file, sep=',')\n",
    "        df.sort_values('target_id', inplace=True)\n",
    "        df['strain'] = strain.replace('b-', '')\n",
    "        df['genotype'] = genmap[genmap.strain == file[:-4]].genotype.unique()[0].replace('b_', '').replace('_', '-')\n",
    "        frames += [df]\n",
    "    \n",
    "tidy = pd.concat(frames)\n",
    "tidy.dropna(subset=['ens_gene', 'b', 'qval'], inplace=True)\n",
    "tidy['absb'] = tidy.b.abs()\n",
    "tidy.sort_values(['target_id'], ascending=True, inplace=True)"
   ]
  },
  {
   "cell_type": "code",
   "execution_count": 3,
   "metadata": {
    "collapsed": true
   },
   "outputs": [],
   "source": [
    "q=0.1"
   ]
  },
  {
   "cell_type": "markdown",
   "metadata": {},
   "source": [
    "# Defining the hypoxia response. See our paper"
   ]
  },
  {
   "cell_type": "code",
   "execution_count": 29,
   "metadata": {},
   "outputs": [
    {
     "name": "stdout",
     "output_type": "stream",
     "text": [
      "320\n",
      "There are 595 genes in the predicted hypoxia response\n"
     ]
    }
   ],
   "source": [
    "hyp_response_pos = epi.find_overlap(['vhl1', 'egl9', 'rhy1', 'egl9-vhl1'], tidy[tidy.b > 0], col='genotype')\n",
    "hyp_response_neg = epi.find_overlap(['vhl1', 'egl9', 'rhy1', 'egl9-vhl1'], tidy[tidy.b < 0], col='genotype')\n",
    "\n",
    "either_or = (((tidy.b < 0) & (tidy.qval < q)) | (tidy.qval > q))\n",
    "hyp_response_pos = tidy[(tidy.target_id.isin(hyp_response_pos)) & ((tidy.genotype == 'egl9-hif1') & either_or)].target_id.values.tolist()\n",
    "\n",
    "# do the same for the negative set\n",
    "either_or = (((tidy.b > 0) & (tidy.qval < q)) | (tidy.qval > q))\n",
    "hyp_response_neg = tidy[(tidy.target_id.isin(hyp_response_neg)) & (tidy.genotype == 'egl9-hif1') & either_or].target_id.values.tolist()\n",
    "\n",
    "# get the list\n",
    "hyp_response = list(set(hyp_response_neg + hyp_response_pos))\n",
    "hyp = tidy[(tidy.target_id.isin(hyp_response)) &\n",
    "           (tidy.genotype == 'egl9')\n",
    "          ].copy().sort_values('qval')\n",
    "\n",
    "# annotate whether they are candidates for direct or\n",
    "# indirect regulation.\n",
    "def annotate(x):\n",
    "    if x > 0:\n",
    "        return 'candidate for direct regulation'\n",
    "    else:\n",
    "        return 'candidate for indirect regulation'\n",
    "\n",
    "# annotate\n",
    "hyp['regulation'] = hyp.b.apply(annotate)\n",
    "cols = ['target_id', 'ens_gene', 'ext_gene', 'b', 'qval', 'regulation']\n",
    "hyp[cols].to_csv('../input/hypoxia_response.csv', index=False)\n",
    "\n",
    "# get the list of gene IDs as a numpy array.\n",
    "hyp_response = tidy[tidy.target_id.isin(hyp_response)].ens_gene.unique()\n",
    "print('There are {0} genes in the predicted hypoxia response'.format(len(hyp_response)))"
   ]
  },
  {
   "cell_type": "markdown",
   "metadata": {},
   "source": [
    "# Defining the Dpy phenotype response"
   ]
  },
  {
   "cell_type": "code",
   "execution_count": 32,
   "metadata": {},
   "outputs": [],
   "source": [
    "embryonic = epi.find_overlap(['dpy7', 'dpy10', 'unc54', 'clk-1'], tidy, col='genotype')\n",
    "dpy = epi.find_overlap(['dpy7', 'dpy10'], tidy, col='genotype', q=0.01)\n",
    "dpy = tidy[tidy.target_id.isin(dpy) & (~tidy.target_id.isin(embryonic))].copy()"
   ]
  },
  {
   "cell_type": "code",
   "execution_count": 33,
   "metadata": {},
   "outputs": [
    {
     "name": "stdout",
     "output_type": "stream",
     "text": [
      "628 genes found Dpy\n"
     ]
    }
   ],
   "source": [
    "print(len(dpy.ens_gene.unique()), 'genes found Dpy')\n",
    "dpy[dpy.genotype == 'dpy7'][['b', 'qval', 'target_id', 'ens_gene', 'ext_gene']].to_csv('../input/dpy_geneset.csv', index=False)"
   ]
  },
  {
   "cell_type": "markdown",
   "metadata": {},
   "source": [
    "# Defining the Ras response"
   ]
  },
  {
   "cell_type": "code",
   "execution_count": 51,
   "metadata": {},
   "outputs": [
    {
     "name": "stdout",
     "output_type": "stream",
     "text": [
      "284 genes found in let-60(lf)\n",
      "2089 genes found in let-60(gf)\n"
     ]
    }
   ],
   "source": [
    "# ras_common = epi.find_overlap(['let60', 'let60.gf'], tidy, col='genotype')\n",
    "# & (~tidy.target_id.isin(ras_common)\n",
    "\n",
    "let60 = tidy[(tidy.genotype == 'let60') & (tidy.qval < 10**-2)]\n",
    "let60[['b', 'qval', 'target_id', 'ens_gene', 'ext_gene']].to_csv('../input/ras_geneset.csv', index=False)\n",
    "\n",
    "\n",
    "let60gf = tidy[(tidy.genotype == 'let60.gf') & (tidy.qval < 10**-2)]\n",
    "let60gf[['b', 'qval', 'target_id', 'ens_gene', 'ext_gene']].to_csv('../input/rasgf_geneset.csv', index=False)\n",
    "\n",
    "print('{0} genes found in let-60(lf)'.format(len(let60)))\n",
    "print('{0} genes found in let-60(gf)'.format(len(let60gf)))"
   ]
  },
  {
   "cell_type": "markdown",
   "metadata": {},
   "source": [
    "# Defining the Wnt response"
   ]
  },
  {
   "cell_type": "code",
   "execution_count": 24,
   "metadata": {
    "collapsed": true
   },
   "outputs": [],
   "source": [
    "wnt = tidy[(tidy.genotype == 'bar1') & (tidy.qval < 10**-2)]\n",
    "wnt[['b', 'qval', 'target_id', 'ens_gene', 'ext_gene']].to_csv('../input/wnt_geneset.csv', index=False)"
   ]
  }
 ],
 "metadata": {
  "kernelspec": {
   "display_name": "Python [default]",
   "language": "python",
   "name": "python3"
  },
  "language_info": {
   "codemirror_mode": {
    "name": "ipython",
    "version": 3
   },
   "file_extension": ".py",
   "mimetype": "text/x-python",
   "name": "python",
   "nbconvert_exporter": "python",
   "pygments_lexer": "ipython3",
   "version": "3.5.3"
  },
  "nav_menu": {},
  "toc": {
   "navigate_menu": true,
   "number_sections": true,
   "sideBar": true,
   "threshold": 6,
   "toc_cell": true,
   "toc_section_display": "block",
   "toc_window_display": true
  }
 },
 "nbformat": 4,
 "nbformat_minor": 2
}
